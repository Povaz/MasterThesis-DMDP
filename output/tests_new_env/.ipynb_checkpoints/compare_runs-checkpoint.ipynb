{
 "cells": [
  {
   "cell_type": "code",
   "execution_count": 1,
   "metadata": {},
   "outputs": [],
   "source": [
    "import pandas as pd\n",
    "import numpy as np\n",
    "import os, json\n",
    "import matplotlib.pyplot as plt\n",
    "import torch"
   ]
  },
  {
   "cell_type": "code",
   "execution_count": 2,
   "metadata": {},
   "outputs": [],
   "source": [
    "def load_reward(path):\n",
    "    files_name = os.listdir(path)\n",
    "    files_name.remove('model_parameters.txt')\n",
    "    models = list(filter(lambda n: \"model\" in n,  files_name))\n",
    "    if len(models)==1:\n",
    "        load_path = os.path.join(path, 'model.pt')\n",
    "    else: \n",
    "        temp = np.array([int(name.replace('model_','').replace('.pt','')) for name in iter(models)])\n",
    "        load_path = os.path.join(path, 'model_'+str(max(temp))+'.pt')\n",
    "        \n",
    "    ckpt = torch.load(load_path)\n",
    "    \n",
    "    return ckpt['avg_reward'], ckpt['std_reward'], ckpt['enc_losses']\n",
    "\n",
    "def time_to_cv(r):\n",
    "    temp = np.where(r>(-200))[0]\n",
    "    if len(temp)==0:\n",
    "        return len(r)\n",
    "    else: \n",
    "        return temp[0]"
   ]
  },
  {
   "cell_type": "code",
   "execution_count": 34,
   "metadata": {},
   "outputs": [],
   "source": [
    "cdir = r'C:\\Users\\pierr\\Desktop\\train_1'"
   ]
  },
  {
   "cell_type": "code",
   "execution_count": 35,
   "metadata": {},
   "outputs": [],
   "source": [
    "param = []\n",
    "r_mean = []\n",
    "r_std = []\n",
    "enc_loss = []\n",
    "for d in filter(lambda x:'Pendulum' in x,os.listdir(cdir)):\n",
    "    if os.path.exists(os.path.join(cdir,d,\"model_parameters.txt\")):\n",
    "        with open(os.path.join(cdir,d,'model_parameters.txt')) as f:\n",
    "            param.append(json.loads(f.read())) \n",
    "        r_mean_, r_std_, enc_loss_ = load_reward(os.path.join(cdir,d))\n",
    "        param[-1]['r_mean'] = np.array(r_mean_)\n",
    "        param[-1]['r_std'] = np.array(r_std_)\n",
    "        param[-1]['enc_loss'] = np.array(enc_loss_)\n",
    "        \n",
    "data = pd.DataFrame.from_dict(param)\n",
    "data['name'] = [i.split('/')[-1] for i in data['save_dir']]"
   ]
  },
  {
   "cell_type": "code",
   "execution_count": 36,
   "metadata": {},
   "outputs": [
    {
     "data": {
      "text/plain": [
       "[<matplotlib.lines.Line2D at 0x177c977ed68>]"
      ]
     },
     "execution_count": 36,
     "metadata": {},
     "output_type": "execute_result"
    },
    {
     "data": {
      "image/png": "[encoded data removed]",
      "text/plain": [
       "<Figure size 432x288 with 1 Axes>"
      ]
     },
     "metadata": {
      "needs_background": "light"
     },
     "output_type": "display_data"
    }
   ],
   "source": [
    "r = np.mean(data['r_mean'])\n",
    "plt.plot(r)"
   ]
  },
  {
   "cell_type": "code",
   "execution_count": 37,
   "metadata": {},
   "outputs": [],
   "source": [
    "cdir = r'C:\\Users\\pierr\\Desktop\\train_2'"
   ]
  },
  {
   "cell_type": "code",
   "execution_count": 38,
   "metadata": {},
   "outputs": [],
   "source": [
    "param = []\n",
    "r_mean = []\n",
    "r_std = []\n",
    "enc_loss = []\n",
    "for d in filter(lambda x:'Pendulum' in x,os.listdir(cdir)):\n",
    "    if os.path.exists(os.path.join(cdir,d,\"model_parameters.txt\")):\n",
    "        with open(os.path.join(cdir,d,'model_parameters.txt')) as f:\n",
    "            param.append(json.loads(f.read())) \n",
    "        r_mean_, r_std_, enc_loss_ = load_reward(os.path.join(cdir,d))\n",
    "        param[-1]['r_mean'] = np.array(r_mean_)\n",
    "        param[-1]['r_std'] = np.array(r_std_)\n",
    "        param[-1]['enc_loss'] = np.array(enc_loss_)\n",
    "        \n",
    "data_2 = pd.DataFrame.from_dict(param)\n",
    "data_2['name'] = [i.split('/')[-1] for i in data_2['save_dir']]"
   ]
  },
  {
   "cell_type": "code",
   "execution_count": 43,
   "metadata": {},
   "outputs": [
    {
     "data": {
      "text/plain": [
       "<matplotlib.legend.Legend at 0x177c99cff60>"
      ]
     },
     "execution_count": 43,
     "metadata": {},
     "output_type": "execute_result"
    },
    {
     "data": {
      "image/png": "[encoded data removed]",
      "text/plain": [
       "<Figure size 432x288 with 1 Axes>"
      ]
     },
     "metadata": {
      "needs_background": "light"
     },
     "output_type": "display_data"
    }
   ],
   "source": [
    "r_2 = np.mean(data_2['r_mean'])\n",
    "plt.plot(r_2,label='2')\n",
    "plt.plot(r,label='1')\n",
    "plt.legend()"
   ]
  },
  {
   "cell_type": "code",
   "execution_count": 3,
   "metadata": {},
   "outputs": [],
   "source": [
    "cdir = r'C:\\Users\\pierr\\Desktop\\5'"
   ]
  },
  {
   "cell_type": "code",
   "execution_count": 4,
   "metadata": {},
   "outputs": [],
   "source": [
    "param = []\n",
    "r_mean = []\n",
    "r_std = []\n",
    "enc_loss = []\n",
    "for d in filter(lambda x:'Pendulum' in x,os.listdir(cdir)):\n",
    "    if os.path.exists(os.path.join(cdir,d,\"model_parameters.txt\")):\n",
    "        with open(os.path.join(cdir,d,'model_parameters.txt')) as f:\n",
    "            param.append(json.loads(f.read())) \n",
    "        r_mean_, r_std_, enc_loss_ = load_reward(os.path.join(cdir,d))\n",
    "        param[-1]['r_mean'] = np.array(r_mean_)\n",
    "        param[-1]['r_std'] = np.array(r_std_)\n",
    "        param[-1]['enc_loss'] = np.array(enc_loss_)\n",
    "        \n",
    "data = pd.DataFrame.from_dict(param)\n",
    "data['name'] = [i.split('/')[-1] for i in data['save_dir']]"
   ]
  },
  {
   "cell_type": "code",
   "execution_count": 8,
   "metadata": {},
   "outputs": [
    {
     "data": {
      "text/plain": [
       "-552.4649628087559"
      ]
     },
     "execution_count": 8,
     "metadata": {},
     "output_type": "execute_result"
    }
   ],
   "source": [
    "r[500]"
   ]
  },
  {
   "cell_type": "code",
   "execution_count": 5,
   "metadata": {},
   "outputs": [
    {
     "data": {
      "text/plain": [
       "[<matplotlib.lines.Line2D at 0x2510567a908>]"
      ]
     },
     "execution_count": 5,
     "metadata": {},
     "output_type": "execute_result"
    },
    {
     "data": {
      "image/png": "[encoded data removed]",
      "text/plain": [
       "<Figure size 432x288 with 1 Axes>"
      ]
     },
     "metadata": {
      "needs_background": "light"
     },
     "output_type": "display_data"
    }
   ],
   "source": [
    "r = np.mean(data['r_mean'])\n",
    "plt.plot(r)"
   ]
  }
 ],
 "metadata": {
  "kernelspec": {
   "display_name": "Python 3",
   "language": "python",
   "name": "python3"
  },
  "language_info": {
   "codemirror_mode": {
    "name": "ipython",
    "version": 3
   },
   "file_extension": ".py",
   "mimetype": "text/x-python",
   "name": "python",
   "nbconvert_exporter": "python",
   "pygments_lexer": "ipython3",
   "version": "3.7.1"
  }
 },
 "nbformat": 4,
 "nbformat_minor": 4
}
