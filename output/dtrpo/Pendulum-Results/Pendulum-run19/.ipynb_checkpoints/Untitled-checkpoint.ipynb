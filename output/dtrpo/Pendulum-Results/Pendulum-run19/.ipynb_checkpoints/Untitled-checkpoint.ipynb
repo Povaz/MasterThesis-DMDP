{
 "cells": [
  {
   "cell_type": "code",
   "execution_count": 2,
   "metadata": {},
   "outputs": [
    {
     "ename": "ModuleNotFoundError",
     "evalue": "No module named 'utils'",
     "output_type": "error",
     "traceback": [
      "\u001b[1;31m---------------------------------------------------------------------------\u001b[0m",
      "\u001b[1;31mModuleNotFoundError\u001b[0m                       Traceback (most recent call last)",
      "\u001b[1;32m<ipython-input-2-7feb2a4b27b5>\u001b[0m in \u001b[0;36m<module>\u001b[1;34m\u001b[0m\n\u001b[0;32m      2\u001b[0m \u001b[1;32mimport\u001b[0m \u001b[0mnumpy\u001b[0m \u001b[1;32mas\u001b[0m \u001b[0mnp\u001b[0m\u001b[1;33m\u001b[0m\u001b[1;33m\u001b[0m\u001b[0m\n\u001b[0;32m      3\u001b[0m \u001b[1;32mimport\u001b[0m \u001b[0mos\u001b[0m\u001b[1;33m\u001b[0m\u001b[1;33m\u001b[0m\u001b[0m\n\u001b[1;32m----> 4\u001b[1;33m \u001b[1;32mfrom\u001b[0m \u001b[0mutils\u001b[0m \u001b[1;32mimport\u001b[0m \u001b[0mDTRPOCore\u001b[0m \u001b[1;32mas\u001b[0m \u001b[0mCore\u001b[0m\u001b[1;33m\u001b[0m\u001b[1;33m\u001b[0m\u001b[0m\n\u001b[0m\u001b[0;32m      5\u001b[0m \u001b[1;32mfrom\u001b[0m \u001b[0malgorithm\u001b[0m\u001b[1;33m.\u001b[0m\u001b[0mdtrpo\u001b[0m \u001b[1;32mimport\u001b[0m \u001b[0mDTRPO\u001b[0m\u001b[1;33m\u001b[0m\u001b[1;33m\u001b[0m\u001b[0m\n\u001b[0;32m      6\u001b[0m \u001b[1;32mfrom\u001b[0m \u001b[0mutils\u001b[0m\u001b[1;33m.\u001b[0m\u001b[0mvarious\u001b[0m \u001b[1;32mimport\u001b[0m \u001b[1;33m*\u001b[0m\u001b[1;33m\u001b[0m\u001b[1;33m\u001b[0m\u001b[0m\n",
      "\u001b[1;31mModuleNotFoundError\u001b[0m: No module named 'utils'"
     ]
    }
   ],
   "source": [
    "import matplotlib.pyplot as plt\n",
    "import numpy as np\n",
    "import os\n",
    "from utils import DTRPOCore as Core\n",
    "from algorithm.dtrpo import DTRPO\n",
    "from utils.various import *\n",
    "from utils.delays import DelayWrapper\n"
   ]
  },
  {
   "cell_type": "code",
   "execution_count": 3,
   "metadata": {},
   "outputs": [],
   "source": [
    "stoch_MDP = True\n",
    "delay_proba = 0.7\n",
    "max_delay = 50\n",
    "stochastic_delays = False\n",
    "delay = 3"
   ]
  },
  {
   "cell_type": "code",
   "execution_count": null,
   "metadata": {},
   "outputs": [],
   "source": [
    "env = gym.make(args.env + '-v0')\n",
    "# Add the delay wrapper\n",
    "env = DelayWrapper(env, delay=delay, stochastic_delays=stochastic_delays, p_delay=delay_proba, max_delay=max_delay)\n",
    "\n",
    "\n",
    "save_model = next(filter(lambda x: '.pt' in x, os.listdir(os.getcwd())))\n",
    "save_dir = os.getcwd()\n",
    "load_parameters = os.path.join('model_parameters.txt')\n",
    "with open(load_parameters) as text_file:\n",
    "    file_args = json.load(text_file)\n",
    "\n",
    "# Policy and belief module parameters \n",
    "ac_kwargs = dict(\n",
    "    pi_hidden_sizes=[file_args['pi_hid']] * file_args['pi_l'],\n",
    "    v_hidden_sizes=[file_args['v_hid']] * file_args['v_l'],\n",
    "    enc_dim=file_args['enc_dim'], enc_heads=file_args['enc_heads'], enc_ff=file_args['enc_ff'],\n",
    "    enc_l=file_args['enc_l'], enc_rescaling=file_args['enc_rescaling'], enc_causal=file_args['enc_causal'],\n",
    "    pred_to_pi=file_args['enc_pred_to_pi'], hidden_dim=file_args['hidden_dim'], n_blocks_maf=file_args['n_blocks_maf'], \n",
    "    hidden_dim_maf=file_args['hidden_dim_maf'], lstm=file_args['lstm'], n_layers=file_args['n_layers'],\n",
    "    hidden_size=file_args['hidden_size']\n",
    ")\n",
    "\n",
    "dtrpo = DTRPO(env, actor_critic=Core.TRNActorCritic, ac_kwargs=ac_kwargs, seed=0,\n",
    "              save_dir=save_dir, stoch_env=stoch_MDP)\n",
    "\n",
    "\n",
    "model ="
   ]
  },
  {
   "cell_type": "code",
   "execution_count": null,
   "metadata": {},
   "outputs": [],
   "source": [
    "self.ac.pi.eval()\n",
    "o = self.env.reset()\n",
    "\n",
    "if self.stoch_env:\n",
    "    temp_o = torch.tensor([i % self.act_dim == o[1][i // self.act_dim]\n",
    "                           for i in range(self.act_dim * len(o[1]))]).float()\n",
    "    o = torch.cat((torch.tensor(o[0]), temp_o.reshape(-1)))\n",
    "else: \n",
    "    o = torch.cat((torch.tensor(o[0]), torch.tensor(o[1]).reshape(-1)))\n",
    "\n",
    "\n",
    "# For each Step\n",
    "step = 0\n",
    "ep_ret = 0.0\n",
    "while step < max_steps:\n",
    "    a, _, _ = self.ac.step(torch.as_tensor(o, dtype=torch.float32).unsqueeze(dim=0))\n",
    "    next_o, r, d, _ = self.env.step(a.reshape(-1))\n",
    "\n",
    "    if self.stoch_env:\n",
    "        temp_o = torch.tensor([i % self.act_dim == next_o[1][i//self.act_dim]\n",
    "                               for i in range(self.act_dim*len(next_o[1]))]).float()\n",
    "        next_o = torch.cat((torch.tensor(next_o[0]), temp_o.reshape(-1)))\n",
    "    else:\n",
    "        next_o = torch.cat((torch.tensor(next_o[0]), torch.tensor(next_o[1]).reshape(-1)))"
   ]
  }
 ],
 "metadata": {
  "kernelspec": {
   "display_name": "Python 3",
   "language": "python",
   "name": "python3"
  },
  "language_info": {
   "codemirror_mode": {
    "name": "ipython",
    "version": 3
   },
   "file_extension": ".py",
   "mimetype": "text/x-python",
   "name": "python",
   "nbconvert_exporter": "python",
   "pygments_lexer": "ipython3",
   "version": "3.7.1"
  }
 },
 "nbformat": 4,
 "nbformat_minor": 4
}
