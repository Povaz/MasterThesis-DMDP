{
 "cells": [
  {
   "cell_type": "code",
   "execution_count": 14,
   "metadata": {},
   "outputs": [],
   "source": [
    "%matplotlib inline\n",
    "import matplotlib.pyplot as plt\n",
    "import numpy as np\n",
    "import os, gym, json\n",
    "os.chdir(r'C:\\Users\\pierr\\Desktop\\Polimi\\delay_mdp\\dmdp')\n",
    "from utils import DTRPOCore as Core\n",
    "from algorithm.dtrpo import DTRPO\n",
    "from utils.various import *\n",
    "from utils.delays import DelayWrapper\n"
   ]
  },
  {
   "cell_type": "code",
   "execution_count": 1,
   "metadata": {},
   "outputs": [],
   "source": [
    "table_color = [(31, 119, 180), (174, 199, 232), (255, 127, 14), (255, 187, 120),\n",
    "                (44, 160, 44), (152, 223, 138), (214, 39, 40), (255, 152, 150),\n",
    "                (148, 103, 189), (197, 176, 213), (140, 86, 75), (196, 156, 148),\n",
    "                (227, 119, 194), (247, 182, 210), (127, 127, 127), (199, 199, 199),\n",
    "                (188, 189, 34), (219, 219, 141), (23, 190, 207), (158, 218, 229)]\n",
    "for i in range(len(table_color)):\n",
    "        r, g, b = table_color[i]\n",
    "        table_color[i] = (r / 255., g / 255., b / 255.)"
   ]
  },
  {
   "cell_type": "code",
   "execution_count": 7,
   "metadata": {},
   "outputs": [],
   "source": [
    "use_belief = True\n",
    "delay_proba = 0.7\n",
    "max_delay = 50\n",
    "stochastic_delays = False\n",
    "delay = 3\n",
    "env_name = 'Pendulum'\n",
    "save_dir = r'C:\\Users\\pierr\\Desktop\\Polimi\\delay_mdp\\dmdp\\output\\dtrpo\\delay_5_deter_belief\\Pendulum-v0-20-12-24_13_31_743825'\n",
    "epoch = 100"
   ]
  },
  {
   "cell_type": "code",
   "execution_count": 5,
   "metadata": {},
   "outputs": [
    {
     "name": "stdout",
     "output_type": "stream",
     "text": [
      "C:\\Users\\pierr\\Desktop\\Polimi\\delay_mdp\\dmdp\\output\\dtrpo\\delay_5_deter_belief\\Pendulum-v0-20-12-24_13_31_743825\n",
      "\u001b[94m Number of parameters: \t pi: 4802, \t v: 641, \t enc: 21820\n",
      "\u001b[00m\n"
     ]
    }
   ],
   "source": [
    "env = gym.make(env_name + '-v0')\n",
    "# Add the delay wrapper\n",
    "env = DelayWrapper(env, delay=delay, stochastic_delays=stochastic_delays, p_delay=delay_proba, max_delay=max_delay)\n",
    "\n",
    "print(save_dir)\n",
    "save_model = next(filter(lambda x: '.pt' in x, os.listdir(save_dir)))\n",
    "load_parameters = os.path.join(save_dir,'model_parameters.txt')\n",
    "with open(load_parameters) as text_file:\n",
    "    file_args = json.load(text_file)\n",
    "\n",
    "# Policy and belief module parameters \n",
    "ac_kwargs = dict(\n",
    "    pi_hidden_sizes=[file_args['pi_hid']] * file_args['pi_l'],\n",
    "    v_hidden_sizes=[file_args['v_hid']] * file_args['v_l'],\n",
    "    enc_dim=file_args['enc_dim'], enc_heads=file_args['enc_heads'], enc_ff=file_args['enc_ff'],\n",
    "    enc_l=file_args['enc_l'], enc_rescaling=file_args['enc_rescaling'], enc_causal=file_args['enc_causal'],\n",
    "    pred_to_pi=file_args['enc_pred_to_pi'], hidden_dim=file_args['hidden_dim'], n_blocks_maf=file_args['n_blocks_maf'], \n",
    "    hidden_dim_maf=file_args['hidden_dim_maf'], lstm=file_args['lstm'], n_layers=file_args['n_layers'],\n",
    "    hidden_size=file_args['hidden_size']\n",
    ")\n",
    "\n",
    "dtrpo = DTRPO(env, actor_critic=Core.TRNActorCritic, ac_kwargs=ac_kwargs, seed=0,\n",
    "              save_dir=save_dir, use_belief=use_belief)\n",
    "\n"
   ]
  },
  {
   "cell_type": "code",
   "execution_count": 8,
   "metadata": {},
   "outputs": [],
   "source": [
    "dtrpo.load_session(epoch)\n",
    "dtrpo.ac.enc.eval()\n",
    "dtrpo.ac.pi.eval()\n",
    "o = dtrpo.env.reset()\n",
    "\n",
    "if isinstance(dtrpo.env.action_space, Discrete):\n",
    "    temp_o = torch.tensor([i % dtrpo.act_dim == o[1][i // dtrpo.act_dim]\n",
    "                           for i in range(dtrpo.act_dim * len(o[1]))]).float()\n",
    "    o = torch.cat((torch.tensor(o[0]), temp_o.reshape(-1)))\n",
    "else: \n",
    "    o = torch.cat((torch.tensor(o[0]), torch.tensor(o[1]).reshape(-1)))\n",
    "\n",
    "o = torch.as_tensor(o, dtype=torch.float32).unsqueeze(dim=0)\n"
   ]
  },
  {
   "cell_type": "code",
   "execution_count": 9,
   "metadata": {},
   "outputs": [
    {
     "name": "stdout",
     "output_type": "stream",
     "text": [
      "State: \t\ttensor([-0.8092, -0.5875,  0.5048]) \n",
      "Actions: \ttensor([-1.7826,  1.8616,  0.5308])\n",
      "[-0.8092281  -0.58749458  0.50483443]\n",
      "[-0.81515432 -0.57924385 -0.20317047]\n",
      "[-0.82540205 -0.56454535 -0.35836878]\n",
      "[-0.84470949 -0.53522507 -0.70216323]\n"
     ]
    }
   ],
   "source": [
    "print('State: \\t\\t{0} \\nActions: \\t{1}'.format(o[0,:3],o[0,3:]))\n",
    "for s in dtrpo.env._hidden_obs:\n",
    "    print(s)"
   ]
  },
  {
   "cell_type": "code",
   "execution_count": 16,
   "metadata": {},
   "outputs": [
    {
     "name": "stdout",
     "output_type": "stream",
     "text": [
      "[-2.6360972 -2.645171  -2.6426663 -2.649359  -2.662159  -2.6395214\n",
      " -2.6312559 -2.647547  -2.6394181 -2.6227899 -2.6305077 -2.6256132\n",
      " -2.6202683 -2.6490915 -2.6420062 -2.620207  -2.6314485 -2.654015\n",
      " -2.648756  -2.6335814 -2.6265817 -2.64238   -2.6518338 -2.6428366\n",
      " -2.6446702 -2.6369257 -2.640742  -2.6381164 -2.650896  -2.6622434\n",
      " -2.6302567 -2.6304073 -2.6334753 -2.6489384 -2.6062338 -2.6189258\n",
      " -2.63777   -2.6141722 -2.6207871 -2.6387634 -2.6552293 -2.63318\n",
      " -2.6264584 -2.6317866 -2.638419  -2.6336842 -2.6339998 -2.622982\n",
      " -2.6587021 -2.614319  -2.6416638 -2.6458154 -2.6525824 -2.631439\n",
      " -2.6412158 -2.6623383 -2.657025  -2.6231287 -2.6418035 -2.64293\n",
      " -2.6351287 -2.6308932 -2.6757698 -2.6573048 -2.6221213 -2.6399865\n",
      " -2.6354005 -2.6210854 -2.6222134 -2.6483657 -2.6235654 -2.6252115\n",
      " -2.619566  -2.6475441 -2.6372583 -2.6479151 -2.6275244 -2.651674\n",
      " -2.6407886 -2.642311  -2.6481786 -2.6043608 -2.6453323 -2.6156392\n",
      " -2.6397362 -2.6475866 -2.6150959 -2.660982  -2.6581273 -2.6470268\n",
      " -2.6341753 -2.6235409 -2.6397402 -2.6479163 -2.6339903 -2.647939\n",
      " -2.656481  -2.6499825 -2.6637833 -2.6378472]\n"
     ]
    },
    {
     "data": {
      "text/plain": [
       "[]"
      ]
     },
     "execution_count": 16,
     "metadata": {},
     "output_type": "execute_result"
    },
    {
     "data": {
      "image/png": "[encoded data removed]",
      "text/plain": [
       "<Figure size 432x360 with 1 Axes>"
      ]
     },
     "metadata": {
      "needs_background": "light"
     },
     "output_type": "display_data"
    }
   ],
   "source": [
    "num_samples = 100\n",
    "with torch.no_grad():\n",
    "        cond = dtrpo.ac.enc.get_cond(o).detach()\n",
    "cond = cond.repeat(num_samples,1,1)\n",
    "\n",
    "dtrpo.ac.enc.maf_proba.num_inputs = 1\n",
    "samples = dtrpo.ac.enc.maf_proba.sample(num_samples=num_samples, cond_inputs=cond)\n",
    "fig, ax = plt.subplots(1, 1, figsize=(6, 5))\n",
    "print(samples[:,-1,2].detach().numpy())\n",
    "for i in range(samples.shape[2]):\n",
    "    ax.hist(samples[:,-1,i].detach().numpy(),color=table_color[2*i+1], alpha=.7, label='Dim {0}'.format(i), bins=np.arange(-2, 2 + 0.1, 0.1))\n",
    "    plt.axvline(dtrpo.env._hidden_obs[-1][i],color=table_color[2*i])\n",
    "\n",
    "plt.legend()\n",
    "plt.plot()"
   ]
  }
 ],
 "metadata": {
  "kernelspec": {
   "display_name": "Python 3",
   "language": "python",
   "name": "python3"
  },
  "language_info": {
   "codemirror_mode": {
    "name": "ipython",
    "version": 3
   },
   "file_extension": ".py",
   "mimetype": "text/x-python",
   "name": "python",
   "nbconvert_exporter": "python",
   "pygments_lexer": "ipython3",
   "version": "3.7.1"
  }
 },
 "nbformat": 4,
 "nbformat_minor": 4
}
