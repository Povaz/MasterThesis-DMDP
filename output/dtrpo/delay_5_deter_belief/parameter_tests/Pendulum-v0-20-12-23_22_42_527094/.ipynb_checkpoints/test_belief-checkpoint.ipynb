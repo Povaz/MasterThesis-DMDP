{
 "cells": [
  {
   "cell_type": "code",
   "execution_count": 6,
   "metadata": {},
   "outputs": [],
   "source": [
    "%matplotlib inline\n",
    "import matplotlib.pyplot as plt\n",
    "import numpy as np\n",
    "import os, gym, json\n",
    "sa\n",
    "os.chdir(r'C:\\Users\\pierr\\Desktop\\Polimi\\delay_mdp\\dmdp')\n",
    "from utils import DTRPOCore as Core\n",
    "from algorithm.dtrpo import DTRPO\n",
    "from utils.various import *\n",
    "from utils.delays import DelayWrapper\n"
   ]
  },
  {
   "cell_type": "code",
   "execution_count": 7,
   "metadata": {},
   "outputs": [],
   "source": [
    "table_color = [(31, 119, 180), (174, 199, 232), (255, 127, 14), (255, 187, 120),\n",
    "                (44, 160, 44), (152, 223, 138), (214, 39, 40), (255, 152, 150),\n",
    "                (148, 103, 189), (197, 176, 213), (140, 86, 75), (196, 156, 148),\n",
    "                (227, 119, 194), (247, 182, 210), (127, 127, 127), (199, 199, 199),\n",
    "                (188, 189, 34), (219, 219, 141), (23, 190, 207), (158, 218, 229)]\n",
    "for i in range(len(table_color)):\n",
    "        r, g, b = table_color[i]\n",
    "        table_color[i] = (r / 255., g / 255., b / 255.)"
   ]
  },
  {
   "cell_type": "code",
   "execution_count": 79,
   "metadata": {},
   "outputs": [],
   "source": [
    "stoch_MDP = True\n",
    "delay_proba = 0.7\n",
    "max_delay = 50\n",
    "stochastic_delays = False\n",
    "delay = 3\n",
    "env_name = 'Pendulum'\n",
    "save_dir = r'C:\\Users\\pierr\\Desktop\\Polimi\\delay_mdp\\dmdp\\output\\dtrpo\\delay_3_deter_belief\\Pendulum-run27'\n",
    "epoch = 100"
   ]
  },
  {
   "cell_type": "code",
   "execution_count": 80,
   "metadata": {},
   "outputs": [
    {
     "name": "stdout",
     "output_type": "stream",
     "text": [
      "\u001b[94m Number of parameters: \t pi: 4546, \t v: 385, \t enc: 39232\n",
      "\u001b[00m\n"
     ]
    }
   ],
   "source": [
    "env = gym.make(env_name + '-v0')\n",
    "# Add the delay wrapper\n",
    "env = DelayWrapper(env, delay=delay, stochastic_delays=stochastic_delays, p_delay=delay_proba, max_delay=max_delay)\n",
    "\n",
    "\n",
    "save_model = next(filter(lambda x: '.pt' in x, os.listdir(save_dir)))\n",
    "load_parameters = os.path.join(save_dir,'model_parameters.txt')\n",
    "with open(load_parameters) as text_file:\n",
    "    file_args = json.load(text_file)\n",
    "\n",
    "# Policy and belief module parameters \n",
    "ac_kwargs = dict(\n",
    "    pi_hidden_sizes=[file_args['pi_hid']] * file_args['pi_l'],\n",
    "    v_hidden_sizes=[file_args['v_hid']] * file_args['v_l'],\n",
    "    enc_dim=file_args['enc_dim'], enc_heads=file_args['enc_heads'], enc_ff=file_args['enc_ff'],\n",
    "    enc_l=file_args['enc_l'], enc_rescaling=file_args['enc_rescaling'], enc_causal=file_args['enc_causal'],\n",
    "    pred_to_pi=file_args['enc_pred_to_pi'], hidden_dim=file_args['hidden_dim'], n_blocks_maf=file_args['n_blocks_maf'], \n",
    "    hidden_dim_maf=file_args['hidden_dim_maf'], lstm=file_args['lstm'], n_layers=file_args['n_layers'],\n",
    "    hidden_size=file_args['hidden_size']\n",
    ")\n",
    "\n",
    "dtrpo = DTRPO(env, actor_critic=Core.TRNActorCritic, ac_kwargs=ac_kwargs, seed=0,\n",
    "              save_dir=save_dir, stoch_env=stoch_MDP)\n",
    "\n"
   ]
  },
  {
   "cell_type": "code",
   "execution_count": 122,
   "metadata": {},
   "outputs": [],
   "source": [
    "dtrpo.load_session(epoch)\n",
    "dtrpo.ac.enc.eval()\n",
    "dtrpo.ac.pi.eval()\n",
    "o = dtrpo.env.reset()\n",
    "\n",
    "if isinstance(dtrpo.env.action_space, Discrete):\n",
    "    temp_o = torch.tensor([i % dtrpo.act_dim == o[1][i // dtrpo.act_dim]\n",
    "                           for i in range(dtrpo.act_dim * len(o[1]))]).float()\n",
    "    o = torch.cat((torch.tensor(o[0]), temp_o.reshape(-1)))\n",
    "else: \n",
    "    o = torch.cat((torch.tensor(o[0]), torch.tensor(o[1]).reshape(-1)))\n",
    "\n",
    "o = torch.as_tensor(o, dtype=torch.float32).unsqueeze(dim=0)\n"
   ]
  },
  {
   "cell_type": "code",
   "execution_count": 113,
   "metadata": {},
   "outputs": [
    {
     "name": "stdout",
     "output_type": "stream",
     "text": [
      "State: \t\ttensor([-0.9184, -0.3957,  0.6682]) \n",
      "Actions: \ttensor([ 0.1079, -1.8388,  1.9118])\n",
      "[-0.91836108 -0.39574351  0.66819825]\n",
      "[-0.91051995 -0.41346515  0.38758296]\n",
      "[-0.91457547 -0.40441527 -0.19834149]\n",
      "[-0.91886777 -0.39456562 -0.21488649]\n"
     ]
    }
   ],
   "source": [
    "print('State: \\t\\t{0} \\nActions: \\t{1}'.format(o[0,:3],o[0,3:]))\n",
    "for s in dtrpo.env._hidden_obs:\n",
    "    print(s)"
   ]
  },
  {
   "cell_type": "code",
   "execution_count": 123,
   "metadata": {},
   "outputs": [
    {
     "data": {
      "text/plain": [
       "[]"
      ]
     },
     "execution_count": 123,
     "metadata": {},
     "output_type": "execute_result"
    },
    {
     "data": {
      "image/png": "[encoded data removed]",
      "text/plain": [
       "<Figure size 432x360 with 1 Axes>"
      ]
     },
     "metadata": {
      "needs_background": "light"
     },
     "output_type": "display_data"
    }
   ],
   "source": [
    "num_samples = 100\n",
    "with torch.no_grad():\n",
    "        cond = dtrpo.ac.enc.get_cond(o).detach()\n",
    "cond = cond.repeat(num_samples,1,1)\n",
    "\n",
    "dtrpo.ac.enc.maf_proba.num_inputs = 1\n",
    "samples = dtrpo.ac.enc.maf_proba.sample(num_samples=num_samples, cond_inputs=cond)\n",
    "fig, ax = plt.subplots(1, 1, figsize=(6, 5))\n",
    "for i in range(samples.shape[2]):\n",
    "    ax.hist(samples[:,-1,i].detach().numpy(),color=table_color[2*i+1], alpha=.7, label='Dim {0}'.format(i), bins=np.arange(-2, 2 + 0.1, 0.1))\n",
    "    plt.axvline(dtrpo.env._hidden_obs[-1][i],color=table_color[2*i])\n",
    "\n",
    "plt.legend()\n",
    "plt.plot()"
   ]
  }
 ],
 "metadata": {
  "kernelspec": {
   "display_name": "Python 3",
   "language": "python",
   "name": "python3"
  },
  "language_info": {
   "codemirror_mode": {
    "name": "ipython",
    "version": 3
   },
   "file_extension": ".py",
   "mimetype": "text/x-python",
   "name": "python",
   "nbconvert_exporter": "python",
   "pygments_lexer": "ipython3",
   "version": "3.7.1"
  }
 },
 "nbformat": 4,
 "nbformat_minor": 4
}
