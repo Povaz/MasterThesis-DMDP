{
 "cells": [
  {
   "cell_type": "code",
   "execution_count": 14,
   "metadata": {},
   "outputs": [],
   "source": [
    "%matplotlib inline\n",
    "import matplotlib.pyplot as plt\n",
    "import numpy as np\n",
    "import os, gym, json\n",
    "os.chdir(r'C:\\Users\\pierr\\Desktop\\Polimi\\delay_mdp\\dmdp')\n",
    "from utils import DTRPOCore as Core\n",
    "from algorithm.dtrpo import DTRPO\n",
    "from utils.various import *\n",
    "from utils.delays import DelayWrapper\n"
   ]
  },
  {
   "cell_type": "code",
   "execution_count": 1,
   "metadata": {},
   "outputs": [],
   "source": [
    "table_color = [(31, 119, 180), (174, 199, 232), (255, 127, 14), (255, 187, 120),\n",
    "                (44, 160, 44), (152, 223, 138), (214, 39, 40), (255, 152, 150),\n",
    "                (148, 103, 189), (197, 176, 213), (140, 86, 75), (196, 156, 148),\n",
    "                (227, 119, 194), (247, 182, 210), (127, 127, 127), (199, 199, 199),\n",
    "                (188, 189, 34), (219, 219, 141), (23, 190, 207), (158, 218, 229)]\n",
    "for i in range(len(table_color)):\n",
    "        r, g, b = table_color[i]\n",
    "        table_color[i] = (r / 255., g / 255., b / 255.)"
   ]
  },
  {
   "cell_type": "code",
   "execution_count": 21,
   "metadata": {},
   "outputs": [],
   "source": [
    "use_belief = True\n",
    "delay_proba = 0.7\n",
    "max_delay = 50\n",
    "stochastic_delays = False\n",
    "delay = 3\n",
    "env_name = 'Pendulum'\n",
    "save_dir = r'C:\\Users\\pierr\\Desktop\\Polimi\\delay_mdp\\dmdp\\output\\dtrpo\\delay_5_deter_belief\\Pendulum-v0-20-12-23_22_42_527094'\n",
    "epoch = 100"
   ]
  },
  {
   "cell_type": "code",
   "execution_count": 22,
   "metadata": {},
   "outputs": [
    {
     "name": "stdout",
     "output_type": "stream",
     "text": [
      "C:\\Users\\pierr\\Desktop\\Polimi\\delay_mdp\\dmdp\\output\\dtrpo\\delay_5_deter_belief\\Pendulum-v0-20-12-23_22_42_527094\n",
      "\u001b[94m Number of parameters: \t pi: 4546, \t v: 385, \t enc: 21240\n",
      "\u001b[00m\n"
     ]
    }
   ],
   "source": [
    "env = gym.make(env_name + '-v0')\n",
    "# Add the delay wrapper\n",
    "env = DelayWrapper(env, delay=delay, stochastic_delays=stochastic_delays, p_delay=delay_proba, max_delay=max_delay)\n",
    "\n",
    "print(save_dir)\n",
    "save_model = next(filter(lambda x: '.pt' in x, os.listdir(save_dir)))\n",
    "load_parameters = os.path.join(save_dir,'model_parameters.txt')\n",
    "with open(load_parameters) as text_file:\n",
    "    file_args = json.load(text_file)\n",
    "\n",
    "# Policy and belief module parameters \n",
    "ac_kwargs = dict(\n",
    "    pi_hidden_sizes=[file_args['pi_hid']] * file_args['pi_l'],\n",
    "    v_hidden_sizes=[file_args['v_hid']] * file_args['v_l'],\n",
    "    enc_dim=file_args['enc_dim'], enc_heads=file_args['enc_heads'], enc_ff=file_args['enc_ff'],\n",
    "    enc_l=file_args['enc_l'], enc_rescaling=file_args['enc_rescaling'], enc_causal=file_args['enc_causal'],\n",
    "    pred_to_pi=file_args['enc_pred_to_pi'], hidden_dim=file_args['hidden_dim'], n_blocks_maf=file_args['n_blocks_maf'], \n",
    "    hidden_dim_maf=file_args['hidden_dim_maf'], lstm=file_args['lstm'], n_layers=file_args['n_layers'],\n",
    "    hidden_size=file_args['hidden_size']\n",
    ")\n",
    "\n",
    "dtrpo = DTRPO(env, actor_critic=Core.TRNActorCritic, ac_kwargs=ac_kwargs, seed=0,\n",
    "              save_dir=save_dir, use_belief=use_belief)\n",
    "\n"
   ]
  },
  {
   "cell_type": "code",
   "execution_count": 28,
   "metadata": {},
   "outputs": [],
   "source": [
    "dtrpo.load_session(epoch)\n",
    "dtrpo.ac.enc.eval()\n",
    "dtrpo.ac.pi.eval()\n",
    "o = dtrpo.env.reset()\n",
    "\n",
    "if isinstance(dtrpo.env.action_space, Discrete):\n",
    "    temp_o = torch.tensor([i % dtrpo.act_dim == o[1][i // dtrpo.act_dim]\n",
    "                           for i in range(dtrpo.act_dim * len(o[1]))]).float()\n",
    "    o = torch.cat((torch.tensor(o[0]), temp_o.reshape(-1)))\n",
    "else: \n",
    "    o = torch.cat((torch.tensor(o[0]), torch.tensor(o[1]).reshape(-1)))\n",
    "\n",
    "o = torch.as_tensor(o, dtype=torch.float32).unsqueeze(dim=0)\n"
   ]
  },
  {
   "cell_type": "code",
   "execution_count": 29,
   "metadata": {},
   "outputs": [
    {
     "name": "stdout",
     "output_type": "stream",
     "text": [
      "State: \t\ttensor([ 0.9427, -0.3336, -0.3798]) \n",
      "Actions: \ttensor([-0.8399, -1.5901,  0.6923])\n",
      "[ 0.94271121 -0.33360991 -0.3798151 ]\n",
      "[ 0.92943012 -0.36899817 -0.75601214]\n",
      "[ 0.90411413 -0.42729105 -1.27127021]\n",
      "[ 0.8698545  -0.49330837 -1.48789269]\n"
     ]
    }
   ],
   "source": [
    "print('State: \\t\\t{0} \\nActions: \\t{1}'.format(o[0,:3],o[0,3:]))\n",
    "for s in dtrpo.env._hidden_obs:\n",
    "    print(s)"
   ]
  },
  {
   "cell_type": "code",
   "execution_count": 31,
   "metadata": {},
   "outputs": [
    {
     "name": "stdout",
     "output_type": "stream",
     "text": [
      "[-8.91409814e-03 -6.14202023e-03 -1.38297826e-02 -1.06011778e-02\n",
      " -6.43365085e-03 -5.57520986e-03 -1.11293048e-02 -2.08214074e-02\n",
      " -1.00437850e-02 -2.12107748e-02  1.01239979e-03  6.19634986e-04\n",
      " -1.15983784e-02 -7.21159577e-03 -1.03769600e-02  3.45653296e-03\n",
      " -1.79087371e-02 -2.57995725e-03 -6.60899282e-03 -5.06132841e-04\n",
      " -4.10607457e-03 -4.26155329e-03  2.91037560e-03 -1.37877166e-02\n",
      " -9.73646343e-03 -2.54005194e-02 -1.75967813e-03 -1.45225525e-02\n",
      " -9.50284302e-03 -1.50964111e-02 -9.99177992e-03  2.50454247e-03\n",
      "  3.33972275e-03  1.46996975e-03 -2.87208408e-02  1.95184350e-03\n",
      " -1.18037760e-02 -2.67366469e-02 -7.77840614e-03 -1.29671693e-02\n",
      " -1.02340281e-02 -5.50284982e-04 -1.41682029e-02 -8.12830031e-03\n",
      " -1.25519335e-02  9.36359167e-04  6.90370798e-05 -4.46695089e-03\n",
      "  4.69073653e-03 -1.23109967e-02 -9.33977962e-03 -8.84902477e-03\n",
      "  2.62552500e-03 -1.59368068e-02  1.91500783e-03 -1.07255727e-02\n",
      " -2.04665363e-02  2.33054161e-05 -7.14862347e-03 -4.56312299e-03\n",
      " -1.17300749e-02 -4.98253107e-03 -1.38616711e-02 -9.08003747e-03\n",
      " -1.78420991e-02  4.74745035e-03 -8.12333822e-03 -5.36380708e-03\n",
      " -9.07376409e-03 -1.14238113e-02 -1.66938603e-02 -1.63753033e-02\n",
      " -1.26964450e-02 -1.17873102e-02 -4.70605493e-03 -2.56219506e-03\n",
      "  3.85190547e-03 -7.75147974e-03  1.11351609e-02 -1.80375576e-02\n",
      " -6.79975748e-03 -1.49534643e-02 -5.03297150e-03 -1.56224370e-02\n",
      " -1.68024004e-03 -4.95693088e-03 -2.04106122e-02 -1.45251602e-02\n",
      " -1.18696243e-02 -1.38851851e-02 -7.58764148e-03 -8.12098384e-03\n",
      " -7.61480629e-03 -1.33575797e-02 -3.00957263e-03 -2.07144022e-03\n",
      " -1.28190070e-02 -5.27495146e-03 -2.17413902e-03 -9.01679695e-03]\n"
     ]
    },
    {
     "data": {
      "text/plain": [
       "[]"
      ]
     },
     "execution_count": 31,
     "metadata": {},
     "output_type": "execute_result"
    },
    {
     "data": {
      "image/png": "[encoded data removed]",
      "text/plain": [
       "<Figure size 432x360 with 1 Axes>"
      ]
     },
     "metadata": {
      "needs_background": "light"
     },
     "output_type": "display_data"
    }
   ],
   "source": [
    "num_samples = 100\n",
    "with torch.no_grad():\n",
    "        cond = dtrpo.ac.enc.get_cond(o).detach()\n",
    "cond = cond.repeat(num_samples,1,1)\n",
    "\n",
    "dtrpo.ac.enc.maf_proba.num_inputs = 1\n",
    "samples = dtrpo.ac.enc.maf_proba.sample(num_samples=num_samples, cond_inputs=cond)\n",
    "fig, ax = plt.subplots(1, 1, figsize=(6, 5))\n",
    "print(samples[:,-1,2].detach().numpy())\n",
    "for i in range(samples.shape[2]):\n",
    "    ax.hist(samples[:,-1,i].detach().numpy(),color=table_color[2*i+1], alpha=.7, label='Dim {0}'.format(i), bins=np.arange(-2, 2 + 0.1, 0.1))\n",
    "    plt.axvline(dtrpo.env._hidden_obs[-1][i],color=table_color[2*i])\n",
    "\n",
    "plt.legend()\n",
    "plt.plot()"
   ]
  }
 ],
 "metadata": {
  "kernelspec": {
   "display_name": "Python 3",
   "language": "python",
   "name": "python3"
  },
  "language_info": {
   "codemirror_mode": {
    "name": "ipython",
    "version": 3
   },
   "file_extension": ".py",
   "mimetype": "text/x-python",
   "name": "python",
   "nbconvert_exporter": "python",
   "pygments_lexer": "ipython3",
   "version": "3.7.1"
  }
 },
 "nbformat": 4,
 "nbformat_minor": 4
}
