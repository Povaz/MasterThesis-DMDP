{
 "cells": [
  {
   "cell_type": "markdown",
   "metadata": {
    "collapsed": true,
    "pycharm": {
     "name": "#%% md\n"
    }
   },
   "source": [
    "# Comparison of DTRPO Test Performances\n",
    "\n",
    "Library loading:"
   ]
  },
  {
   "cell_type": "code",
   "execution_count": null,
   "outputs": [],
   "source": [
    "from matplotlib import pyplot as plt\n",
    "from notebooks import loaders as load\n",
    "import numpy as np\n",
    "import torch"
   ],
   "metadata": {
    "collapsed": false,
    "pycharm": {
     "name": "#%%\n"
    }
   }
  },
  {
   "cell_type": "code",
   "execution_count": null,
   "outputs": [],
   "source": [
    "mean_3_3, std_3_3 = load.stats_test(method='dtrpo', test_type='ENC-Delay3', delay_test=3)\n",
    "mean_3_5, std_3_5 = stats_test([1, 2, 3, 4, 5, 6, 7, 8, 9, 10], test_type='ENC-Delay3', delay_test=5)\n",
    "mean_3_10, std_3_10 = stats_test([1, 2, 3, 4, 5, 6, 7, 8, 9, 10], test_type='ENC-Delay3', delay_test=10)\n",
    "mean_3_15, std_3_15 = stats_test([1, 2, 3, 4, 5, 6, 7, 8, 9, 10], test_type='ENC-Delay3', delay_test=15)\n",
    "\n",
    "mean_5_3, std_5_3 = stats_test([1, 2, 3, 4, 5, 6, 7, 8, 9, 10], test_type='ENC-Delay5', delay_test=3)\n",
    "mean_5_5, std_5_5 = stats_test([1, 2, 3, 4, 5, 6, 7, 8, 9, 10], test_type='ENC-Delay5', delay_test=5)\n",
    "mean_5_10, std_5_10 = stats_test([1, 2, 3, 4, 5, 6, 7, 8, 9, 10], test_type='ENC-Delay5', delay_test=10)\n",
    "mean_5_15, std_5_15 = stats_test([1, 2, 3, 4, 5, 6, 7, 8, 9, 10], test_type='ENC-Delay5', delay_test=15)\n",
    "\n",
    "mean_10_3, std_10_3 = stats_test([1, 2, 3, 4, 5, 6, 7, 8, 9, 10], test_type='ENC-Delay10', delay_test=3)\n",
    "mean_10_5, std_10_5 = stats_test([1, 2, 3, 4, 5, 6, 7, 8, 9, 10], test_type='ENC-Delay10', delay_test=5)\n",
    "mean_10_10, std_10_10 = stats_test([1, 2, 3, 4, 5, 6, 7, 8, 9, 10], test_type='ENC-Delay10', delay_test=10)\n",
    "mean_10_15, std_10_15 = stats_test([1, 2, 3, 4, 5, 6, 7, 8, 9, 10], test_type='ENC-Delay10', delay_test=15)\n",
    "\n",
    "mean_15_3, std_15_3 = stats_test([1, 2, 3, 4, 5, 6, 7, 8, 9, 10], test_type='ENC-Delay15', delay_test=3)\n",
    "mean_15_5, std_15_5 = stats_test([1, 2, 3, 4, 5, 6, 7, 8, 9, 10], test_type='ENC-Delay15', delay_test=5)\n",
    "mean_15_10, std_15_10 = stats_test([1, 2, 3, 4, 5, 6, 7, 8, 9, 10], test_type='ENC-Delay15', delay_test=10)\n",
    "mean_15_15, std_15_15 = stats_test([1, 2, 3, 4, 5, 6, 7, 8, 9, 10], test_type='ENC-Delay15', delay_test=15)\n",
    "\n",
    "from prettytable import PrettyTable\n",
    "t = PrettyTable(['Test Setup', '3-Steps Delay', '5-Steps Delay', '10-Steps Delay', '15-Steps Delay'])\n",
    "t.add_row(['3-Steps Delay',\n",
    "           str(np.around(mean_3_3, decimals=2)) + ' +/-' + str(np.around(std_3_3, decimals=2)),\n",
    "           str(np.around(mean_3_5, decimals=2)) + ' +/-' + str(np.around(std_3_5, decimals=2)),\n",
    "           str(np.around(mean_3_10, decimals=2)) + ' +/-' + str(np.around(std_3_10, decimals=2)),\n",
    "           str(np.around(mean_3_15, decimals=2)) + ' +/-' + str(np.around(std_3_15, decimals=2))])\n",
    "t.add_row(['5-Steps Delay',\n",
    "           str(np.around(mean_5_3, decimals=2)) + ' +/-' + str(np.around(std_5_3, decimals=2)),\n",
    "           str(np.around(mean_5_5, decimals=2)) + ' +/-' + str(np.around(std_5_5, decimals=2)),\n",
    "           str(np.around(mean_5_10, decimals=2)) + ' +/-' + str(np.around(std_5_10, decimals=2)),\n",
    "           str(np.around(mean_5_15, decimals=2)) + ' +/-' + str(np.around(std_5_15, decimals=2))])\n",
    "t.add_row(['10-Steps Delay',\n",
    "           str(np.around(mean_10_3, decimals=2)) + ' +/-' + str(np.around(std_10_3, decimals=2)),\n",
    "           str(np.around(mean_10_5, decimals=2)) + ' +/-' + str(np.around(std_10_5, decimals=2)),\n",
    "           str(np.around(mean_10_10, decimals=2)) + ' +/-' + str(np.around(std_10_10, decimals=2)),\n",
    "           str(np.around(mean_10_15, decimals=2)) + ' +/-' + str(np.around(std_10_15, decimals=2))])\n",
    "t.add_row(['15-Steps Delay',\n",
    "           str(np.around(mean_15_3, decimals=2)) + ' +/-' + str(np.around(std_15_3, decimals=2)),\n",
    "           str(np.around(mean_15_5, decimals=2)) + ' +/-' + str(np.around(std_15_5, decimals=2)),\n",
    "           str(np.around(mean_15_10, decimals=2)) + ' +/-' + str(np.around(std_15_10, decimals=2)),\n",
    "           str(np.around(mean_15_15, decimals=2)) + ' +/-' + str(np.around(std_15_15, decimals=2))])\n",
    "print(t)\n"
   ],
   "metadata": {
    "collapsed": false,
    "pycharm": {
     "name": "#%%\n"
    }
   }
  }
 ],
 "metadata": {
  "kernelspec": {
   "display_name": "Python 3",
   "language": "python",
   "name": "python3"
  },
  "language_info": {
   "codemirror_mode": {
    "name": "ipython",
    "version": 2
   },
   "file_extension": ".py",
   "mimetype": "text/x-python",
   "name": "python",
   "nbconvert_exporter": "python",
   "pygments_lexer": "ipython2",
   "version": "2.7.6"
  }
 },
 "nbformat": 4,
 "nbformat_minor": 0
}