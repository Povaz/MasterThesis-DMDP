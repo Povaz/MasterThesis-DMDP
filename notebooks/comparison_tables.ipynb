{
 "cells": [
  {
   "cell_type": "markdown",
   "metadata": {
    "collapsed": true,
    "pycharm": {
     "name": "#%% md\n"
    }
   },
   "source": [
    "# Comparison of DTRPO Test Performances\n",
    "\n",
    "Library loading:"
   ]
  },
  {
   "cell_type": "code",
   "execution_count": 2,
   "outputs": [],
   "source": [
    "from matplotlib import pyplot as plt\n",
    "from prettytable import PrettyTable\n",
    "from notebooks import loaders as load\n",
    "import numpy as np\n",
    "import torch"
   ],
   "metadata": {
    "collapsed": false,
    "pycharm": {
     "name": "#%%\n"
    }
   }
  },
  {
   "cell_type": "code",
   "execution_count": 6,
   "outputs": [],
   "source": [
    "mean_3_delay3, std_3_delay3 = load.stats_test(method='dtrpo', source='Results', test_type='Delay3', epoch='delay3')\n",
    "mean_3_delay5, std_3_delay5 = load.stats_test(method='dtrpo', source='Results', test_type='Delay3', epoch='delay5')\n",
    "mean_3_delay10, std_3_delay10 = load.stats_test(method='dtrpo', source='Results', test_type='Delay3', epoch='delay10')\n",
    "mean_3_delay15, std_3_delay15 = load.stats_test(method='dtrpo', source='Results', test_type='Delay3', epoch='delay15')\n",
    "mean_3_delayP07, std_3_delayP07 = load.stats_test(method='dtrpo', source='Results', test_type='Delay3', epoch='delayP0.7')\n",
    "mean_3_delayP06, std_3_delayP06 = load.stats_test(method='dtrpo', source='Results', test_type='Delay3', epoch='delayP0.6')\n",
    "mean_3_delayP055, std_3_delayP055 = load.stats_test(method='dtrpo', source='Results', test_type='Delay3', epoch='delayP0.55')\n",
    "\n",
    "mean_5_delay3, std_5_delay3 = load.stats_test(method='dtrpo', source='Results', test_type='Delay5', epoch='delay3')\n",
    "mean_5_delay5, std_5_delay5 = load.stats_test(method='dtrpo', source='Results', test_type='Delay5', epoch='delay5')\n",
    "mean_5_delay10, std_5_delay10 = load.stats_test(method='dtrpo', source='Results', test_type='Delay5', epoch='delay10')\n",
    "mean_5_delay15, std_5_delay15 = load.stats_test(method='dtrpo', source='Results', test_type='Delay5', epoch='delay15')\n",
    "mean_5_delayP07, std_5_delayP07 = load.stats_test(method='dtrpo', source='Results', test_type='Delay5', epoch='delayP0.7')\n",
    "mean_5_delayP06, std_5_delayP06 = load.stats_test(method='dtrpo', source='Results', test_type='Delay5', epoch='delayP0.6')\n",
    "mean_5_delayP055, std_5_delayP055 = load.stats_test(method='dtrpo', source='Results', test_type='Delay5', epoch='delayP0.55')\n",
    "\n",
    "mean_10_delay3, std_10_delay3 = load.stats_test(method='dtrpo', source='Results', test_type='Delay10', epoch='delay3')\n",
    "mean_10_delay5, std_10_delay5 = load.stats_test(method='dtrpo', source='Results', test_type='Delay10', epoch='delay5')\n",
    "mean_10_delay10, std_10_delay10 = load.stats_test(method='dtrpo', source='Results', test_type='Delay10', epoch='delay10')\n",
    "mean_10_delay15, std_10_delay15 = load.stats_test(method='dtrpo', source='Results', test_type='Delay10', epoch='delay15')\n",
    "mean_10_delayP07, std_10_delayP07 = load.stats_test(method='dtrpo', source='Results', test_type='Delay10', epoch='delayP0.7')\n",
    "mean_10_delayP06, std_10_delayP06 = load.stats_test(method='dtrpo', source='Results', test_type='Delay10', epoch='delayP0.6')\n",
    "mean_10_delayP055, std_10_delayP055 = load.stats_test(method='dtrpo', source='Results', test_type='Delay10', epoch='delayP0.55')\n",
    "\n",
    "mean_l2trpo10_delayP07, std_l2trpo10_delayP07 = load.stats_test(method='l2trpo', source='Results-BIG', test_type='Delay10-BIG', epoch='delayP0.7')\n",
    "mean_l2trpo10_delayP06, std_l2trpo10_delayP06 = load.stats_test(method='l2trpo', source='Results-BIG', test_type='Delay10-BIG', epoch='delayP0.6')\n",
    "mean_l2trpo10_delayP055, std_l2trpo10_delayP055 = load.stats_test(method='l2trpo', source='Results-BIG', test_type='Delay10-BIG', epoch='delayP0.55')\n",
    "\n",
    "mean_15_delay3, std_15_delay3 = load.stats_test(method='dtrpo', source='Results', test_type='Delay15', epoch='delay3')\n",
    "mean_15_delay5, std_15_delay5 = load.stats_test(method='dtrpo', source='Results', test_type='Delay15', epoch='delay5')\n",
    "mean_15_delay10, std_15_delay10 = load.stats_test(method='dtrpo', source='Results', test_type='Delay15', epoch='delay10')\n",
    "mean_15_delay15, std_15_delay15 = load.stats_test(method='dtrpo', source='Results', test_type='Delay15', epoch='delay15')\n",
    "mean_15_delayP07, std_15_delayP07 = load.stats_test(method='dtrpo', source='Results', test_type='Delay15', epoch='delayP0.7')\n",
    "mean_15_delayP06, std_15_delayP06 = load.stats_test(method='dtrpo', source='Results', test_type='Delay15', epoch='delayP0.6')\n",
    "mean_15_delayP055, std_15_delayP055 = load.stats_test(method='dtrpo', source='Results', test_type='Delay15', epoch='delayP0.55')"
   ],
   "metadata": {
    "collapsed": false,
    "pycharm": {
     "name": "#%%\n"
    }
   }
  },
  {
   "cell_type": "markdown",
   "source": [
    "## DTRPO Trained on Delay3-5-10-15-20 Tested on Deterministic Delays"
   ],
   "metadata": {
    "collapsed": false
   }
  },
  {
   "cell_type": "code",
   "execution_count": 8,
   "outputs": [
    {
     "name": "stdout",
     "output_type": "stream",
     "text": [
      "+----------------+-------------------+-------------------+-------------------+--------------------+\n",
      "|   Test Setup   |   3-Steps Delay   |   5-Steps Delay   |   10-Steps Delay  |   15-Steps Delay   |\n",
      "+----------------+-------------------+-------------------+-------------------+--------------------+\n",
      "| 3-Steps Delay  |  -155.61 +/-79.02 | -831.79 +/-127.55 | -1223.33 +/-71.02 | -1631.23 +/-77.32  |\n",
      "| 5-Steps Delay  | -544.46 +/-105.17 |  -175.36 +/-95.01 | -1161.79 +/-71.96 | -1578.53 +/-100.6  |\n",
      "| 10-Steps Delay | -1120.52 +/-56.54 |  -1054.0 +/-65.79 |  -720.49 +/-93.85 | -1352.81 +/-105.87 |\n",
      "| 15-Steps Delay | -1196.11 +/-66.82 | -1139.92 +/-83.66 |  -1103.9 +/-76.88 |  -912.31 +/-93.59  |\n",
      "+----------------+-------------------+-------------------+-------------------+--------------------+\n"
     ]
    }
   ],
   "source": [
    "t = PrettyTable(['Test Setup', '3-Steps Delay', '5-Steps Delay', '10-Steps Delay', '15-Steps Delay'])\n",
    "t.add_row(['3-Steps Delay',\n",
    "           str(np.around(mean_3_delay3, decimals=2)) + ' +/-' + str(np.around(std_3_delay3, decimals=2)),\n",
    "           str(np.around(mean_3_delay5, decimals=2)) + ' +/-' + str(np.around(std_3_delay5, decimals=2)),\n",
    "           str(np.around(mean_3_delay10, decimals=2)) + ' +/-' + str(np.around(std_3_delay10, decimals=2)),\n",
    "           str(np.around(mean_3_delay15, decimals=2)) + ' +/-' + str(np.around(std_3_delay15, decimals=2))])\n",
    "t.add_row(['5-Steps Delay',\n",
    "           str(np.around(mean_5_delay3, decimals=2)) + ' +/-' + str(np.around(std_5_delay3, decimals=2)),\n",
    "           str(np.around(mean_5_delay5, decimals=2)) + ' +/-' + str(np.around(std_5_delay5, decimals=2)),\n",
    "           str(np.around(mean_5_delay10, decimals=2)) + ' +/-' + str(np.around(std_5_delay10, decimals=2)),\n",
    "           str(np.around(mean_5_delay15, decimals=2)) + ' +/-' + str(np.around(std_5_delay15, decimals=2))])\n",
    "t.add_row(['10-Steps Delay',\n",
    "           str(np.around(mean_10_delay3, decimals=2)) + ' +/-' + str(np.around(std_10_delay3, decimals=2)),\n",
    "           str(np.around(mean_10_delay5, decimals=2)) + ' +/-' + str(np.around(std_10_delay5, decimals=2)),\n",
    "           str(np.around(mean_10_delay10, decimals=2)) + ' +/-' + str(np.around(std_10_delay10, decimals=2)),\n",
    "           str(np.around(mean_10_delay15, decimals=2)) + ' +/-' + str(np.around(std_10_delay15, decimals=2))])\n",
    "t.add_row(['15-Steps Delay',\n",
    "           str(np.around(mean_15_delay3, decimals=2)) + ' +/-' + str(np.around(std_15_delay3, decimals=2)),\n",
    "           str(np.around(mean_15_delay5, decimals=2)) + ' +/-' + str(np.around(std_15_delay5, decimals=2)),\n",
    "           str(np.around(mean_15_delay10, decimals=2)) + ' +/-' + str(np.around(std_15_delay10, decimals=2)),\n",
    "           str(np.around(mean_15_delay15, decimals=2)) + ' +/-' + str(np.around(std_15_delay15, decimals=2))])\n",
    "print(t)"
   ],
   "metadata": {
    "collapsed": false,
    "pycharm": {
     "name": "#%%\n"
    }
   }
  },
  {
   "cell_type": "markdown",
   "source": [
    "## DTRPO Trained on Delay3-5-10-15-20 Tested on Stochastic Delays (DelayP 0.7-0.6-0.55)"
   ],
   "metadata": {
    "collapsed": false
   }
  },
  {
   "cell_type": "code",
   "execution_count": 11,
   "outputs": [
    {
     "name": "stdout",
     "output_type": "stream",
     "text": [
      "+----------------+-------------------+-------------------+--------------------+\n",
      "|   Test Setup   |     DelayP=0.7    |     DelayP=0.6    |    DelayP=0.55     |\n",
      "+----------------+-------------------+-------------------+--------------------+\n",
      "| 3-Steps Delay  | -344.15 +/-149.93 |  -610.1 +/-196.71 | -883.26 +/-226.18  |\n",
      "| 5-Steps Delay  | -605.38 +/-112.22 | -659.11 +/-147.38 | -800.12 +/-186.03  |\n",
      "| 10-Steps Delay |  -1100.71 +/-68.2 |  -1055.5 +/-83.53 | -1045.56 +/-104.81 |\n",
      "| 15-Steps Delay |  -1196.4 +/-72.23 | -1158.42 +/-81.97 | -1131.19 +/-96.66  |\n",
      "+----------------+-------------------+-------------------+--------------------+\n"
     ]
    }
   ],
   "source": [
    "t = PrettyTable(['Test Setup', 'DelayP=0.7', 'DelayP=0.6', 'DelayP=0.55'])\n",
    "t.add_row(['3-Steps Delay',\n",
    "           str(np.around(mean_3_delayP07, decimals=2)) + ' +/-' + str(np.around(std_3_delayP07, decimals=2)),\n",
    "           str(np.around(mean_3_delayP06, decimals=2)) + ' +/-' + str(np.around(std_3_delayP06, decimals=2)),\n",
    "           str(np.around(mean_3_delayP055, decimals=2)) + ' +/-' + str(np.around(std_3_delayP055, decimals=2))])\n",
    "t.add_row(['5-Steps Delay',\n",
    "           str(np.around(mean_5_delayP07, decimals=2)) + ' +/-' + str(np.around(std_5_delayP07, decimals=2)),\n",
    "           str(np.around(mean_5_delayP06, decimals=2)) + ' +/-' + str(np.around(std_5_delayP06, decimals=2)),\n",
    "           str(np.around(mean_5_delayP055, decimals=2)) + ' +/-' + str(np.around(std_5_delayP055, decimals=2))])\n",
    "t.add_row(['10-Steps Delay',\n",
    "           str(np.around(mean_10_delayP07, decimals=2)) + ' +/-' + str(np.around(std_10_delayP07, decimals=2)),\n",
    "           str(np.around(mean_10_delayP06, decimals=2)) + ' +/-' + str(np.around(std_10_delayP06, decimals=2)),\n",
    "           str(np.around(mean_10_delayP055, decimals=2)) + ' +/-' + str(np.around(std_10_delayP055, decimals=2))])\n",
    "t.add_row(['15-Steps Delay',\n",
    "           str(np.around(mean_15_delayP07, decimals=2)) + ' +/-' + str(np.around(std_15_delayP07, decimals=2)),\n",
    "           str(np.around(mean_15_delayP06, decimals=2)) + ' +/-' + str(np.around(std_15_delayP06, decimals=2)),\n",
    "           str(np.around(mean_15_delayP055, decimals=2)) + ' +/-' + str(np.around(std_15_delayP055, decimals=2))])\n",
    "print(t)"
   ],
   "metadata": {
    "collapsed": false,
    "pycharm": {
     "name": "#%%\n"
    }
   }
  },
  {
   "cell_type": "markdown",
   "source": [
    "## L2TRPO BIG Trained on Delay10 Tested on Stochastic Delays"
   ],
   "metadata": {
    "collapsed": false,
    "pycharm": {
     "name": "#%% md\n"
    }
   }
  },
  {
   "cell_type": "code",
   "execution_count": 7,
   "outputs": [
    {
     "name": "stdout",
     "output_type": "stream",
     "text": [
      "+----------------+-------------------+------------------+------------------+\n",
      "|   Test Setup   |     DelayP=0.7    |    DelayP=0.6    |   DelayP=0.55    |\n",
      "+----------------+-------------------+------------------+------------------+\n",
      "| 10-Steps Delay | -254.52 +/-147.07 | -306.1 +/-159.17 | -464.1 +/-235.38 |\n",
      "+----------------+-------------------+------------------+------------------+\n"
     ]
    }
   ],
   "source": [
    "t = PrettyTable(['Test Setup', 'DelayP=0.7', 'DelayP=0.6', 'DelayP=0.55'])\n",
    "t.add_row(['10-Steps Delay',\n",
    "           str(np.around(mean_l2trpo10_delayP07, decimals=2)) + ' +/-' + str(np.around(std_l2trpo10_delayP07, decimals=2)),\n",
    "           str(np.around(mean_l2trpo10_delayP06, decimals=2)) + ' +/-' + str(np.around(std_l2trpo10_delayP06, decimals=2)),\n",
    "           str(np.around(mean_l2trpo10_delayP055, decimals=2)) + ' +/-' + str(np.around(std_l2trpo10_delayP055, decimals=2))])\n",
    "print(t)"
   ],
   "metadata": {
    "collapsed": false,
    "pycharm": {
     "name": "#%%\n"
    }
   }
  }
 ],
 "metadata": {
  "kernelspec": {
   "display_name": "Python 3",
   "language": "python",
   "name": "python3"
  },
  "language_info": {
   "codemirror_mode": {
    "name": "ipython",
    "version": 2
   },
   "file_extension": ".py",
   "mimetype": "text/x-python",
   "name": "python",
   "nbconvert_exporter": "python",
   "pygments_lexer": "ipython2",
   "version": "2.7.6"
  }
 },
 "nbformat": 4,
 "nbformat_minor": 0
}