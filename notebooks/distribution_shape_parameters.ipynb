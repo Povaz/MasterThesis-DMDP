{
 "cells": [
  {
   "cell_type": "markdown",
   "source": [
    "## LogNormal Noise"
   ],
   "metadata": {
    "collapsed": false,
    "pycharm": {
     "name": "#%% md\n"
    }
   }
  },
  {
   "cell_type": "code",
   "execution_count": 4,
   "metadata": {
    "collapsed": true
   },
   "outputs": [
    {
     "data": {
      "text/plain": "<Figure size 432x288 with 1 Axes>",
      "image/png": "[encoded data removed]"
     },
     "metadata": {
      "needs_background": "light"
     },
     "output_type": "display_data"
    }
   ],
   "source": [
    "import matplotlib.pyplot as plt\n",
    "import numpy as np\n",
    "\n",
    "# First parameter used:\n",
    "# Shift, Mu, Sigma = 2.0, 0.0, 1.5\n",
    "# Too strong for either DET or MAF\n",
    "\n",
    "# Second parameter used:\n",
    "# Shift, Mu, Sigma = 1.0, 0.0, 1.0\n",
    "# Learnable by DTRPO, too strong for L2TRPO\n",
    "\n",
    "# Third parameter used:\n",
    "# Shift, Mu, Sigma = 1.0, 0.0, 0.5\n",
    "# Learnable by DTRPO, too strong for L2TRPO\n",
    "\n",
    "# Third parameter used:\n",
    "# Shift, Mu, Sigma = 1.0, 0.0, 0.3\n",
    "# Learnable by DTRPO, too strong for L2TRPO\n",
    "\n",
    "# Third parameter used:\n",
    "# Shift, Mu, Sigma = 1.0, 0.0, 0.2\n",
    "#\n",
    "\n",
    "shift = 1.0\n",
    "mu, sigma = 0.0, 0.2\n",
    "s = np.random.lognormal(mu, sigma, 1000) - shift\n",
    "count, bins, ignored = plt.hist(s, 100, density=True, align='mid')\n",
    "\n",
    "x = np.linspace(min(bins), max(bins), 10000)\n",
    "pdf = (np.exp(-(np.log(x + shift) - mu)**2 / (2 * sigma**2)) / ((x + shift) * sigma * np.sqrt(2 * np.pi)))\n",
    "plt.plot(x, pdf, linewidth=2, color='r')\n",
    "\n",
    "plt.axis('tight')\n",
    "plt.xlim([-2.0, 2.0])\n",
    "plt.savefig('./lognormal.png')\n",
    "plt.show()"
   ]
  },
  {
   "cell_type": "markdown",
   "source": [
    "## Triangular Noise"
   ],
   "metadata": {
    "collapsed": false,
    "pycharm": {
     "name": "#%% md\n"
    }
   }
  },
  {
   "cell_type": "code",
   "execution_count": 109,
   "outputs": [
    {
     "data": {
      "text/plain": "<Figure size 432x288 with 1 Axes>",
      "image/png": "[encoded data removed]"
     },
     "metadata": {
      "needs_background": "light"
     },
     "output_type": "display_data"
    }
   ],
   "source": [
    "import matplotlib.pyplot as plt\n",
    "import numpy as np\n",
    "\n",
    "# First parameter used:\n",
    "# Left, Mode, Right = -2.0, 1.0, 2.0\n",
    "# Can be learned by both DET and MAF\n",
    "\n",
    "s = np.random.triangular(left=-2.0, mode=1.0, right=2.0, size=10000)\n",
    "plt.hist(s, 100, density=True, align='mid')\n",
    "\n",
    "plt.axis('tight')\n",
    "plt.xlim([-2.0, 2.0])\n",
    "plt.show()"
   ],
   "metadata": {
    "collapsed": false,
    "pycharm": {
     "name": "#%%\n"
    }
   }
  },
  {
   "cell_type": "markdown",
   "source": [
    "## Quadratic Noise"
   ],
   "metadata": {
    "collapsed": false
   }
  },
  {
   "cell_type": "code",
   "execution_count": 3,
   "outputs": [
    {
     "data": {
      "text/plain": "<Figure size 432x288 with 1 Axes>",
      "image/png": "[encoded data removed]"
     },
     "metadata": {
      "needs_background": "light"
     },
     "output_type": "display_data"
    }
   ],
   "source": [
    "import matplotlib.pyplot as plt\n",
    "import numpy as np\n",
    "\n",
    "# First parameter used:\n",
    "# Shift, Scale, AB = 2.0, 4.0, 2.0\n",
    "# Too strong for either DET of MAF\n",
    "\n",
    "# Second parameter used:\n",
    "# Shift, Scale, AB = 2.0, 2.0, 2.0\n",
    "#\n",
    "\n",
    "shift = 0.5\n",
    "scale = 2.0\n",
    "ab = 2.0\n",
    "\n",
    "s = (np.random.beta(a=ab, b=ab, size=10000) - shift) * scale\n",
    "plt.hist(s, 100, density=True, align='mid')\n",
    "\n",
    "plt.axis('tight')\n",
    "plt.xlim([-2.0, 2.0])\n",
    "plt.savefig('./quadratic.png')\n",
    "plt.show()"
   ],
   "metadata": {
    "collapsed": false,
    "pycharm": {
     "name": "#%%\n"
    }
   }
  },
  {
   "cell_type": "markdown",
   "source": [
    "## UShaped Noise"
   ],
   "metadata": {
    "collapsed": false
   }
  },
  {
   "cell_type": "code",
   "execution_count": 4,
   "outputs": [
    {
     "data": {
      "text/plain": "<Figure size 432x288 with 1 Axes>",
      "image/png": "[encoded data removed]"
     },
     "metadata": {
      "needs_background": "light"
     },
     "output_type": "display_data"
    }
   ],
   "source": [
    "import matplotlib.pyplot as plt\n",
    "import numpy as np\n",
    "\n",
    "# First parameter used:\n",
    "# Shift, Scale, AB = 0.5, 4.0, 0.5\n",
    "# Too strong for either DET of MAF\n",
    "\n",
    "# Second parameter used:\n",
    "# Shift, Scale, AB = 0.5, 2.0, 0.5\n",
    "#\n",
    "\n",
    "shift = 0.5\n",
    "scale = 2.0\n",
    "ab = 0.5\n",
    "\n",
    "s = (np.random.beta(a=ab, b=ab, size=10000) - shift) * scale\n",
    "plt.hist(s, 100, density=True, align='mid')\n",
    "\n",
    "plt.axis('tight')\n",
    "plt.xlim([-2.0, 2.0])\n",
    "plt.savefig('./ushaped.png')\n",
    "plt.show()"
   ],
   "metadata": {
    "collapsed": false,
    "pycharm": {
     "name": "#%%\n"
    }
   }
  },
  {
   "cell_type": "markdown",
   "source": [
    "## Beta(8,2) Noise"
   ],
   "metadata": {
    "collapsed": false
   }
  },
  {
   "cell_type": "code",
   "execution_count": 6,
   "outputs": [
    {
     "data": {
      "text/plain": "<Figure size 432x288 with 1 Axes>",
      "image/png": "[encoded data removed]"
     },
     "metadata": {
      "needs_background": "light"
     },
     "output_type": "display_data"
    }
   ],
   "source": [
    "import matplotlib.pyplot as plt\n",
    "import numpy as np\n",
    "\n",
    "# First parameter used:\n",
    "# Shift, Scale, AB = 0.5, 4.0, 0.5\n",
    "# Too strong for either DET of MAF\n",
    "\n",
    "shift = 0.5\n",
    "scale = 2.0\n",
    "a = 8\n",
    "b = 2\n",
    "\n",
    "s = (np.random.beta(a=a, b=b, size=10000) - shift) * scale\n",
    "plt.hist(s, 100, density=True, align='mid')\n",
    "\n",
    "plt.axis('tight')\n",
    "plt.xlim([-2.0, 2.0])\n",
    "#plt.savefig('./beta.png')\n",
    "plt.show()\n",
    "\n"
   ],
   "metadata": {
    "collapsed": false,
    "pycharm": {
     "name": "#%%\n"
    }
   }
  }
 ],
 "metadata": {
  "kernelspec": {
   "display_name": "Python 3",
   "language": "python",
   "name": "python3"
  },
  "language_info": {
   "codemirror_mode": {
    "name": "ipython",
    "version": 2
   },
   "file_extension": ".py",
   "mimetype": "text/x-python",
   "name": "python",
   "nbconvert_exporter": "python",
   "pygments_lexer": "ipython2",
   "version": "2.7.6"
  }
 },
 "nbformat": 4,
 "nbformat_minor": 0
}