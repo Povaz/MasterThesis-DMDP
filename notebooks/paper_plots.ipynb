{
 "cells": [
  {
   "cell_type": "code",
   "execution_count": 1,
   "outputs": [],
   "source": [
    "from matplotlib import pyplot as plt\n",
    "import numpy as np\n",
    "import torch\n",
    "import os\n",
    "\n",
    "def load_rewards(folder_number=0, method=None, test_type=None):\n",
    "    load_path = os.path.join('../output/' + method + '/PendulumDelayEnv/Results-' + test_type,\n",
    "                             'PendulumDelayEnv-run' + str(folder_number),\n",
    "                             'model.pt')\n",
    "    ckpt = torch.load(load_path)\n",
    "    return torch.as_tensor(ckpt['avg_reward'])\n",
    "\n",
    "def load_stds(folder_number=0, method=None, test_type=None):\n",
    "    load_path = os.path.join('../output/' + method + '/PendulumDelayEnv/Results-' + test_type,\n",
    "                             'PendulumDelayEnv-run' + str(folder_number),\n",
    "                             'model.pt')\n",
    "    ckpt = torch.load(load_path)\n",
    "    return torch.as_tensor(ckpt['std_reward'])\n",
    "\n",
    "def stats_rewards(folders, method=None, test_type=None):\n",
    "    rewards = load_rewards(folders[0], method=method, test_type=test_type).unsqueeze(0)\n",
    "    stds = load_stds(folders[0], method=method, test_type=test_type).unsqueeze(0)\n",
    "    for folder in folders[1:]:\n",
    "        rewards = torch.cat((rewards, load_rewards(folder, method=method, test_type=test_type).unsqueeze(0)), dim=0)\n",
    "        stds = torch.cat((stds, load_stds(folder, method=method, test_type=test_type).unsqueeze(0)), dim=0)\n",
    "    mean = torch.mean(rewards, dim=0)\n",
    "    std = torch.mean(stds, dim=0)\n",
    "    return mean, std\n",
    "\n",
    "def load_test_reward(folder_number=0, method=None, test_type=None):\n",
    "    load_path = os.path.join('../output/' + method + '/PendulumDelayEnv/Results-' + test_type,\n",
    "                             'PendulumDelayEnv-run' + str(folder_number),\n",
    "                             'test_result.pt')\n",
    "    ckpt = torch.load(load_path)\n",
    "    return [np.average(ckpt)]\n",
    "\n",
    "def load_test_std(folder_number=0, method=None, test_type=None):\n",
    "    load_path = os.path.join('../output/' + method + '/PendulumDelayEnv/Results-' + test_type,\n",
    "                             'PendulumDelayEnv-run' + str(folder_number),\n",
    "                             'test_result.pt')\n",
    "    ckpt = torch.load(load_path)\n",
    "    return [np.std(ckpt)]\n",
    "\n",
    "def stats_test(folders, method=None, test_type=None):\n",
    "    rewards = load_test_reward(folders[0], method=method, test_type=test_type)\n",
    "    stds = load_test_std(folders[0], method=method, test_type=test_type)\n",
    "    for folder in folders[1:]:\n",
    "        rewards = rewards + load_test_reward(folder, method=method, test_type=test_type)\n",
    "        stds = stds + load_test_std(folder, method=method, test_type=test_type)\n",
    "    mean = np.average(rewards)\n",
    "    std = np.average(stds)\n",
    "    return mean, std"
   ],
   "metadata": {
    "collapsed": false,
    "pycharm": {
     "name": "#%%\n"
    }
   }
  },
  {
   "cell_type": "markdown",
   "source": [
    "## Training Process Plot"
   ],
   "metadata": {
    "collapsed": false
   }
  },
  {
   "cell_type": "code",
   "execution_count": 2,
   "outputs": [
    {
     "ename": "FileNotFoundError",
     "evalue": "[Errno 2] No such file or directory: '../output/dtrpo/PendulumDelayEnv/Results-DET-Delay5\\\\PendulumDelayEnv-run1\\\\model.pt'",
     "output_type": "error",
     "traceback": [
      "\u001B[1;31m---------------------------------------------------------------------------\u001B[0m",
      "\u001B[1;31mFileNotFoundError\u001B[0m                         Traceback (most recent call last)",
      "\u001B[1;32m<ipython-input-2-6088f4f05465>\u001B[0m in \u001B[0;36m<module>\u001B[1;34m\u001B[0m\n\u001B[1;32m----> 1\u001B[1;33m \u001B[0mdtrpo_enc_avg\u001B[0m\u001B[1;33m,\u001B[0m \u001B[0mdtrpo_enc_std\u001B[0m \u001B[1;33m=\u001B[0m \u001B[0mstats_rewards\u001B[0m\u001B[1;33m(\u001B[0m\u001B[1;33m[\u001B[0m\u001B[1;36m1\u001B[0m\u001B[1;33m,\u001B[0m \u001B[1;36m2\u001B[0m\u001B[1;33m,\u001B[0m \u001B[1;36m3\u001B[0m\u001B[1;33m,\u001B[0m \u001B[1;36m4\u001B[0m\u001B[1;33m,\u001B[0m \u001B[1;36m5\u001B[0m\u001B[1;33m,\u001B[0m \u001B[1;36m6\u001B[0m\u001B[1;33m,\u001B[0m \u001B[1;36m7\u001B[0m\u001B[1;33m,\u001B[0m \u001B[1;36m8\u001B[0m\u001B[1;33m,\u001B[0m \u001B[1;36m9\u001B[0m\u001B[1;33m,\u001B[0m \u001B[1;36m10\u001B[0m\u001B[1;33m]\u001B[0m\u001B[1;33m,\u001B[0m \u001B[0mmethod\u001B[0m\u001B[1;33m=\u001B[0m\u001B[1;34m'dtrpo'\u001B[0m\u001B[1;33m,\u001B[0m \u001B[0mtest_type\u001B[0m\u001B[1;33m=\u001B[0m\u001B[1;34m'DET-Delay5'\u001B[0m\u001B[1;33m)\u001B[0m\u001B[1;33m\u001B[0m\u001B[1;33m\u001B[0m\u001B[0m\n\u001B[0m\u001B[0;32m      2\u001B[0m \u001B[0mtrpo_ext_avg\u001B[0m\u001B[1;33m,\u001B[0m \u001B[0mtrpo_ext_std\u001B[0m \u001B[1;33m=\u001B[0m \u001B[0mstats_rewards\u001B[0m\u001B[1;33m(\u001B[0m\u001B[1;33m[\u001B[0m\u001B[1;36m1\u001B[0m\u001B[1;33m,\u001B[0m \u001B[1;36m2\u001B[0m\u001B[1;33m,\u001B[0m \u001B[1;36m3\u001B[0m\u001B[1;33m,\u001B[0m \u001B[1;36m4\u001B[0m\u001B[1;33m,\u001B[0m \u001B[1;36m5\u001B[0m\u001B[1;33m,\u001B[0m \u001B[1;36m6\u001B[0m\u001B[1;33m,\u001B[0m \u001B[1;36m7\u001B[0m\u001B[1;33m,\u001B[0m \u001B[1;36m8\u001B[0m\u001B[1;33m,\u001B[0m \u001B[1;36m9\u001B[0m\u001B[1;33m,\u001B[0m \u001B[1;36m10\u001B[0m\u001B[1;33m]\u001B[0m\u001B[1;33m,\u001B[0m \u001B[0mmethod\u001B[0m\u001B[1;33m=\u001B[0m\u001B[1;34m'trpo'\u001B[0m\u001B[1;33m,\u001B[0m \u001B[0mtest_type\u001B[0m\u001B[1;33m=\u001B[0m\u001B[1;34m'Delay5'\u001B[0m\u001B[1;33m)\u001B[0m\u001B[1;33m\u001B[0m\u001B[1;33m\u001B[0m\u001B[0m\n\u001B[0;32m      3\u001B[0m \u001B[0mtrpo_0_avg\u001B[0m\u001B[1;33m,\u001B[0m \u001B[0mtrpo_0_std\u001B[0m \u001B[1;33m=\u001B[0m \u001B[0mstats_rewards\u001B[0m\u001B[1;33m(\u001B[0m\u001B[1;33m[\u001B[0m\u001B[1;36m1\u001B[0m\u001B[1;33m,\u001B[0m \u001B[1;36m2\u001B[0m\u001B[1;33m,\u001B[0m \u001B[1;36m3\u001B[0m\u001B[1;33m,\u001B[0m \u001B[1;36m4\u001B[0m\u001B[1;33m,\u001B[0m \u001B[1;36m5\u001B[0m\u001B[1;33m,\u001B[0m \u001B[1;36m6\u001B[0m\u001B[1;33m,\u001B[0m \u001B[1;36m7\u001B[0m\u001B[1;33m,\u001B[0m \u001B[1;36m8\u001B[0m\u001B[1;33m,\u001B[0m \u001B[1;36m9\u001B[0m\u001B[1;33m,\u001B[0m \u001B[1;36m10\u001B[0m\u001B[1;33m]\u001B[0m\u001B[1;33m,\u001B[0m \u001B[0mmethod\u001B[0m\u001B[1;33m=\u001B[0m\u001B[1;34m'trpo'\u001B[0m\u001B[1;33m,\u001B[0m \u001B[0mtest_type\u001B[0m\u001B[1;33m=\u001B[0m\u001B[1;34m'Delay0'\u001B[0m\u001B[1;33m)\u001B[0m\u001B[1;33m\u001B[0m\u001B[1;33m\u001B[0m\u001B[0m\n\u001B[0;32m      4\u001B[0m \u001B[0msarsa_avg\u001B[0m\u001B[1;33m,\u001B[0m \u001B[0msarsa_std\u001B[0m \u001B[1;33m=\u001B[0m \u001B[0mstats_rewards\u001B[0m\u001B[1;33m(\u001B[0m\u001B[1;33m[\u001B[0m\u001B[1;36m1\u001B[0m\u001B[1;33m,\u001B[0m \u001B[1;36m2\u001B[0m\u001B[1;33m,\u001B[0m \u001B[1;36m3\u001B[0m\u001B[1;33m,\u001B[0m \u001B[1;36m4\u001B[0m\u001B[1;33m,\u001B[0m \u001B[1;36m5\u001B[0m\u001B[1;33m,\u001B[0m \u001B[1;36m6\u001B[0m\u001B[1;33m,\u001B[0m \u001B[1;36m7\u001B[0m\u001B[1;33m,\u001B[0m \u001B[1;36m8\u001B[0m\u001B[1;33m,\u001B[0m \u001B[1;36m9\u001B[0m\u001B[1;33m,\u001B[0m \u001B[1;36m10\u001B[0m\u001B[1;33m]\u001B[0m\u001B[1;33m,\u001B[0m \u001B[0mmethod\u001B[0m\u001B[1;33m=\u001B[0m\u001B[1;34m'sarsa'\u001B[0m\u001B[1;33m,\u001B[0m \u001B[0mtest_type\u001B[0m\u001B[1;33m=\u001B[0m\u001B[1;34m'Delay5'\u001B[0m\u001B[1;33m)\u001B[0m\u001B[1;33m\u001B[0m\u001B[1;33m\u001B[0m\u001B[0m\n\u001B[0;32m      5\u001B[0m \u001B[1;33m\u001B[0m\u001B[0m\n",
      "\u001B[1;32m<ipython-input-1-26b561a5dfc3>\u001B[0m in \u001B[0;36mstats_rewards\u001B[1;34m(folders, method, test_type)\u001B[0m\n\u001B[0;32m     19\u001B[0m \u001B[1;33m\u001B[0m\u001B[0m\n\u001B[0;32m     20\u001B[0m \u001B[1;32mdef\u001B[0m \u001B[0mstats_rewards\u001B[0m\u001B[1;33m(\u001B[0m\u001B[0mfolders\u001B[0m\u001B[1;33m,\u001B[0m \u001B[0mmethod\u001B[0m\u001B[1;33m=\u001B[0m\u001B[1;32mNone\u001B[0m\u001B[1;33m,\u001B[0m \u001B[0mtest_type\u001B[0m\u001B[1;33m=\u001B[0m\u001B[1;32mNone\u001B[0m\u001B[1;33m)\u001B[0m\u001B[1;33m:\u001B[0m\u001B[1;33m\u001B[0m\u001B[1;33m\u001B[0m\u001B[0m\n\u001B[1;32m---> 21\u001B[1;33m     \u001B[0mrewards\u001B[0m \u001B[1;33m=\u001B[0m \u001B[0mload_rewards\u001B[0m\u001B[1;33m(\u001B[0m\u001B[0mfolders\u001B[0m\u001B[1;33m[\u001B[0m\u001B[1;36m0\u001B[0m\u001B[1;33m]\u001B[0m\u001B[1;33m,\u001B[0m \u001B[0mmethod\u001B[0m\u001B[1;33m=\u001B[0m\u001B[0mmethod\u001B[0m\u001B[1;33m,\u001B[0m \u001B[0mtest_type\u001B[0m\u001B[1;33m=\u001B[0m\u001B[0mtest_type\u001B[0m\u001B[1;33m)\u001B[0m\u001B[1;33m.\u001B[0m\u001B[0munsqueeze\u001B[0m\u001B[1;33m(\u001B[0m\u001B[1;36m0\u001B[0m\u001B[1;33m)\u001B[0m\u001B[1;33m\u001B[0m\u001B[1;33m\u001B[0m\u001B[0m\n\u001B[0m\u001B[0;32m     22\u001B[0m     \u001B[0mstds\u001B[0m \u001B[1;33m=\u001B[0m \u001B[0mload_stds\u001B[0m\u001B[1;33m(\u001B[0m\u001B[0mfolders\u001B[0m\u001B[1;33m[\u001B[0m\u001B[1;36m0\u001B[0m\u001B[1;33m]\u001B[0m\u001B[1;33m,\u001B[0m \u001B[0mmethod\u001B[0m\u001B[1;33m=\u001B[0m\u001B[0mmethod\u001B[0m\u001B[1;33m,\u001B[0m \u001B[0mtest_type\u001B[0m\u001B[1;33m=\u001B[0m\u001B[0mtest_type\u001B[0m\u001B[1;33m)\u001B[0m\u001B[1;33m.\u001B[0m\u001B[0munsqueeze\u001B[0m\u001B[1;33m(\u001B[0m\u001B[1;36m0\u001B[0m\u001B[1;33m)\u001B[0m\u001B[1;33m\u001B[0m\u001B[1;33m\u001B[0m\u001B[0m\n\u001B[0;32m     23\u001B[0m     \u001B[1;32mfor\u001B[0m \u001B[0mfolder\u001B[0m \u001B[1;32min\u001B[0m \u001B[0mfolders\u001B[0m\u001B[1;33m[\u001B[0m\u001B[1;36m1\u001B[0m\u001B[1;33m:\u001B[0m\u001B[1;33m]\u001B[0m\u001B[1;33m:\u001B[0m\u001B[1;33m\u001B[0m\u001B[1;33m\u001B[0m\u001B[0m\n",
      "\u001B[1;32m<ipython-input-1-26b561a5dfc3>\u001B[0m in \u001B[0;36mload_rewards\u001B[1;34m(folder_number, method, test_type)\u001B[0m\n\u001B[0;32m      8\u001B[0m                              \u001B[1;34m'PendulumDelayEnv-run'\u001B[0m \u001B[1;33m+\u001B[0m \u001B[0mstr\u001B[0m\u001B[1;33m(\u001B[0m\u001B[0mfolder_number\u001B[0m\u001B[1;33m)\u001B[0m\u001B[1;33m,\u001B[0m\u001B[1;33m\u001B[0m\u001B[1;33m\u001B[0m\u001B[0m\n\u001B[0;32m      9\u001B[0m                              'model.pt')\n\u001B[1;32m---> 10\u001B[1;33m     \u001B[0mckpt\u001B[0m \u001B[1;33m=\u001B[0m \u001B[0mtorch\u001B[0m\u001B[1;33m.\u001B[0m\u001B[0mload\u001B[0m\u001B[1;33m(\u001B[0m\u001B[0mload_path\u001B[0m\u001B[1;33m)\u001B[0m\u001B[1;33m\u001B[0m\u001B[1;33m\u001B[0m\u001B[0m\n\u001B[0m\u001B[0;32m     11\u001B[0m     \u001B[1;32mreturn\u001B[0m \u001B[0mtorch\u001B[0m\u001B[1;33m.\u001B[0m\u001B[0mas_tensor\u001B[0m\u001B[1;33m(\u001B[0m\u001B[0mckpt\u001B[0m\u001B[1;33m[\u001B[0m\u001B[1;34m'avg_reward'\u001B[0m\u001B[1;33m]\u001B[0m\u001B[1;33m)\u001B[0m\u001B[1;33m\u001B[0m\u001B[1;33m\u001B[0m\u001B[0m\n\u001B[0;32m     12\u001B[0m \u001B[1;33m\u001B[0m\u001B[0m\n",
      "\u001B[1;32m~\\.conda\\envs\\Thesis\\lib\\site-packages\\torch\\serialization.py\u001B[0m in \u001B[0;36mload\u001B[1;34m(f, map_location, pickle_module, **pickle_load_args)\u001B[0m\n\u001B[0;32m    582\u001B[0m         \u001B[0mpickle_load_args\u001B[0m\u001B[1;33m[\u001B[0m\u001B[1;34m'encoding'\u001B[0m\u001B[1;33m]\u001B[0m \u001B[1;33m=\u001B[0m \u001B[1;34m'utf-8'\u001B[0m\u001B[1;33m\u001B[0m\u001B[1;33m\u001B[0m\u001B[0m\n\u001B[0;32m    583\u001B[0m \u001B[1;33m\u001B[0m\u001B[0m\n\u001B[1;32m--> 584\u001B[1;33m     \u001B[1;32mwith\u001B[0m \u001B[0m_open_file_like\u001B[0m\u001B[1;33m(\u001B[0m\u001B[0mf\u001B[0m\u001B[1;33m,\u001B[0m \u001B[1;34m'rb'\u001B[0m\u001B[1;33m)\u001B[0m \u001B[1;32mas\u001B[0m \u001B[0mopened_file\u001B[0m\u001B[1;33m:\u001B[0m\u001B[1;33m\u001B[0m\u001B[1;33m\u001B[0m\u001B[0m\n\u001B[0m\u001B[0;32m    585\u001B[0m         \u001B[1;32mif\u001B[0m \u001B[0m_is_zipfile\u001B[0m\u001B[1;33m(\u001B[0m\u001B[0mopened_file\u001B[0m\u001B[1;33m)\u001B[0m\u001B[1;33m:\u001B[0m\u001B[1;33m\u001B[0m\u001B[1;33m\u001B[0m\u001B[0m\n\u001B[0;32m    586\u001B[0m             \u001B[1;32mwith\u001B[0m \u001B[0m_open_zipfile_reader\u001B[0m\u001B[1;33m(\u001B[0m\u001B[0mf\u001B[0m\u001B[1;33m)\u001B[0m \u001B[1;32mas\u001B[0m \u001B[0mopened_zipfile\u001B[0m\u001B[1;33m:\u001B[0m\u001B[1;33m\u001B[0m\u001B[1;33m\u001B[0m\u001B[0m\n",
      "\u001B[1;32m~\\.conda\\envs\\Thesis\\lib\\site-packages\\torch\\serialization.py\u001B[0m in \u001B[0;36m_open_file_like\u001B[1;34m(name_or_buffer, mode)\u001B[0m\n\u001B[0;32m    232\u001B[0m \u001B[1;32mdef\u001B[0m \u001B[0m_open_file_like\u001B[0m\u001B[1;33m(\u001B[0m\u001B[0mname_or_buffer\u001B[0m\u001B[1;33m,\u001B[0m \u001B[0mmode\u001B[0m\u001B[1;33m)\u001B[0m\u001B[1;33m:\u001B[0m\u001B[1;33m\u001B[0m\u001B[1;33m\u001B[0m\u001B[0m\n\u001B[0;32m    233\u001B[0m     \u001B[1;32mif\u001B[0m \u001B[0m_is_path\u001B[0m\u001B[1;33m(\u001B[0m\u001B[0mname_or_buffer\u001B[0m\u001B[1;33m)\u001B[0m\u001B[1;33m:\u001B[0m\u001B[1;33m\u001B[0m\u001B[1;33m\u001B[0m\u001B[0m\n\u001B[1;32m--> 234\u001B[1;33m         \u001B[1;32mreturn\u001B[0m \u001B[0m_open_file\u001B[0m\u001B[1;33m(\u001B[0m\u001B[0mname_or_buffer\u001B[0m\u001B[1;33m,\u001B[0m \u001B[0mmode\u001B[0m\u001B[1;33m)\u001B[0m\u001B[1;33m\u001B[0m\u001B[1;33m\u001B[0m\u001B[0m\n\u001B[0m\u001B[0;32m    235\u001B[0m     \u001B[1;32melse\u001B[0m\u001B[1;33m:\u001B[0m\u001B[1;33m\u001B[0m\u001B[1;33m\u001B[0m\u001B[0m\n\u001B[0;32m    236\u001B[0m         \u001B[1;32mif\u001B[0m \u001B[1;34m'w'\u001B[0m \u001B[1;32min\u001B[0m \u001B[0mmode\u001B[0m\u001B[1;33m:\u001B[0m\u001B[1;33m\u001B[0m\u001B[1;33m\u001B[0m\u001B[0m\n",
      "\u001B[1;32m~\\.conda\\envs\\Thesis\\lib\\site-packages\\torch\\serialization.py\u001B[0m in \u001B[0;36m__init__\u001B[1;34m(self, name, mode)\u001B[0m\n\u001B[0;32m    213\u001B[0m \u001B[1;32mclass\u001B[0m \u001B[0m_open_file\u001B[0m\u001B[1;33m(\u001B[0m\u001B[0m_opener\u001B[0m\u001B[1;33m)\u001B[0m\u001B[1;33m:\u001B[0m\u001B[1;33m\u001B[0m\u001B[1;33m\u001B[0m\u001B[0m\n\u001B[0;32m    214\u001B[0m     \u001B[1;32mdef\u001B[0m \u001B[0m__init__\u001B[0m\u001B[1;33m(\u001B[0m\u001B[0mself\u001B[0m\u001B[1;33m,\u001B[0m \u001B[0mname\u001B[0m\u001B[1;33m,\u001B[0m \u001B[0mmode\u001B[0m\u001B[1;33m)\u001B[0m\u001B[1;33m:\u001B[0m\u001B[1;33m\u001B[0m\u001B[1;33m\u001B[0m\u001B[0m\n\u001B[1;32m--> 215\u001B[1;33m         \u001B[0msuper\u001B[0m\u001B[1;33m(\u001B[0m\u001B[0m_open_file\u001B[0m\u001B[1;33m,\u001B[0m \u001B[0mself\u001B[0m\u001B[1;33m)\u001B[0m\u001B[1;33m.\u001B[0m\u001B[0m__init__\u001B[0m\u001B[1;33m(\u001B[0m\u001B[0mopen\u001B[0m\u001B[1;33m(\u001B[0m\u001B[0mname\u001B[0m\u001B[1;33m,\u001B[0m \u001B[0mmode\u001B[0m\u001B[1;33m)\u001B[0m\u001B[1;33m)\u001B[0m\u001B[1;33m\u001B[0m\u001B[1;33m\u001B[0m\u001B[0m\n\u001B[0m\u001B[0;32m    216\u001B[0m \u001B[1;33m\u001B[0m\u001B[0m\n\u001B[0;32m    217\u001B[0m     \u001B[1;32mdef\u001B[0m \u001B[0m__exit__\u001B[0m\u001B[1;33m(\u001B[0m\u001B[0mself\u001B[0m\u001B[1;33m,\u001B[0m \u001B[1;33m*\u001B[0m\u001B[0margs\u001B[0m\u001B[1;33m)\u001B[0m\u001B[1;33m:\u001B[0m\u001B[1;33m\u001B[0m\u001B[1;33m\u001B[0m\u001B[0m\n",
      "\u001B[1;31mFileNotFoundError\u001B[0m: [Errno 2] No such file or directory: '../output/dtrpo/PendulumDelayEnv/Results-DET-Delay5\\\\PendulumDelayEnv-run1\\\\model.pt'"
     ]
    }
   ],
   "source": [
    "dtrpo_enc_avg, dtrpo_enc_std = stats_rewards([1, 2, 3, 4, 5, 6, 7, 8, 9, 10], method='dtrpo', test_type='DET-Delay5')\n",
    "trpo_ext_avg, trpo_ext_std = stats_rewards([1, 2, 3, 4, 5, 6, 7, 8, 9, 10], method='trpo', test_type='Delay5')\n",
    "trpo_0_avg, trpo_0_std = stats_rewards([1, 2, 3, 4, 5, 6, 7, 8, 9, 10], method='trpo', test_type='Delay0')\n",
    "sarsa_avg, sarsa_std = stats_rewards([1, 2, 3, 4, 5, 6, 7, 8, 9, 10], method='sarsa', test_type='Delay5')\n",
    "\n",
    "episode_num = len(dtrpo_enc_avg)\n",
    "epochs = np.arange(-1, episode_num, 25)\n",
    "epochs[0] = 0\n",
    "\n",
    "plt.rc('font', family='serif')\n",
    "plt.rc('xtick', labelsize='medium')\n",
    "plt.rc('ytick', labelsize='medium')\n",
    "plt.rc('axes', titlesize='x-large')\n",
    "plt.rc('axes', labelsize='large')\n",
    "\n",
    "fig = plt.figure(figsize=(8, 5))\n",
    "ax = fig.add_subplot(1, 1, 1)\n",
    "\n",
    "ax.errorbar(epochs, dtrpo_enc_avg[epochs], yerr=dtrpo_enc_std[epochs], color='darkorange', ls='solid',\n",
    "            alpha=0.8, linewidth=1, ecolor='orange', elinewidth=1, capsize=1, label='DTRPO 5-Steps Delay')\n",
    "ax.errorbar(epochs, sarsa_avg[epochs], yerr=sarsa_std[epochs], color='steelblue', ls='dashdot',\n",
    "            alpha=0.9, linewidth=1, ecolor='lightblue', elinewidth=3, capsize=3, label='SARSA(0.9) 5-Steps Delay')\n",
    "ax.errorbar(epochs, trpo_ext_avg[epochs], yerr=trpo_ext_std[epochs], color='forestgreen', ls='dashed',\n",
    "            alpha=0.8, linewidth=1, ecolor='green', elinewidth=1, capsize=1, label='TRPO 5-Steps Delay')\n",
    "ax.errorbar(epochs, trpo_0_avg[epochs], yerr=trpo_0_std[epochs], color='black', ls='dashed',\n",
    "            alpha=0.8, linewidth=1, ecolor='grey', elinewidth=1, capsize=1, label='TRPO 0-Steps Delay')\n",
    "#goal_line = torch.as_tensor([-200] * episode_num, dtype=torch.float32)\n",
    "#ax.plot(epochs, goal_line[epochs], color='black', ls='dashed', linewidth=0.7)\n",
    "\n",
    "ax.legend(fontsize='medium')\n",
    "ax.set_xticks(np.arange(0, 501, 100))\n",
    "ax.set_xlabel('Epochs')\n",
    "ax.set_ylabel('Average Reward')\n",
    "fig.savefig('./paper_plots/InvertedPendulum5StepsDelayLearning.png', dpi=1000)"
   ],
   "metadata": {
    "collapsed": false,
    "pycharm": {
     "name": "#%%\n"
    }
   }
  },
  {
   "cell_type": "markdown",
   "source": [
    "## Test Summary Plot"
   ],
   "metadata": {
    "collapsed": false
   }
  },
  {
   "cell_type": "code",
   "execution_count": 15,
   "outputs": [
    {
     "ename": "FileNotFoundError",
     "evalue": "[Errno 2] No such file or directory: '../output/sarsa/PendulumDelayEnv/Results-Delay3\\\\PendulumDelayEnv-run1\\\\test_result.pt'",
     "output_type": "error",
     "traceback": [
      "\u001B[1;31m---------------------------------------------------------------------------\u001B[0m",
      "\u001B[1;31mFileNotFoundError\u001B[0m                         Traceback (most recent call last)",
      "\u001B[1;32m<ipython-input-15-f01130847f79>\u001B[0m in \u001B[0;36m<module>\u001B[1;34m\u001B[0m\n\u001B[0;32m     15\u001B[0m \u001B[0mtrpo_std\u001B[0m \u001B[1;33m=\u001B[0m \u001B[1;33m[\u001B[0m\u001B[0mtrpo_delay3_std\u001B[0m\u001B[1;33m,\u001B[0m \u001B[0mtrpo_delay5_std\u001B[0m\u001B[1;33m,\u001B[0m \u001B[0mtrpo_delay10_std\u001B[0m\u001B[1;33m,\u001B[0m \u001B[0mtrpo_delay15_std\u001B[0m\u001B[1;33m,\u001B[0m \u001B[0mtrpo_delay20_std\u001B[0m\u001B[1;33m]\u001B[0m\u001B[1;33m\u001B[0m\u001B[1;33m\u001B[0m\u001B[0m\n\u001B[0;32m     16\u001B[0m \u001B[1;33m\u001B[0m\u001B[0m\n\u001B[1;32m---> 17\u001B[1;33m \u001B[0msarsa_delay3_avg\u001B[0m\u001B[1;33m,\u001B[0m \u001B[0msarsa_delay3_std\u001B[0m \u001B[1;33m=\u001B[0m \u001B[0mstats_test\u001B[0m\u001B[1;33m(\u001B[0m\u001B[1;33m[\u001B[0m\u001B[1;36m1\u001B[0m\u001B[1;33m,\u001B[0m \u001B[1;36m2\u001B[0m\u001B[1;33m,\u001B[0m \u001B[1;36m3\u001B[0m\u001B[1;33m,\u001B[0m \u001B[1;36m4\u001B[0m\u001B[1;33m,\u001B[0m \u001B[1;36m5\u001B[0m\u001B[1;33m,\u001B[0m \u001B[1;36m6\u001B[0m\u001B[1;33m,\u001B[0m \u001B[1;36m7\u001B[0m\u001B[1;33m,\u001B[0m \u001B[1;36m8\u001B[0m\u001B[1;33m,\u001B[0m \u001B[1;36m9\u001B[0m\u001B[1;33m,\u001B[0m \u001B[1;36m10\u001B[0m\u001B[1;33m]\u001B[0m\u001B[1;33m,\u001B[0m \u001B[0mmethod\u001B[0m\u001B[1;33m=\u001B[0m\u001B[1;34m'sarsa'\u001B[0m\u001B[1;33m,\u001B[0m \u001B[0mtest_type\u001B[0m\u001B[1;33m=\u001B[0m\u001B[1;34m'Delay3'\u001B[0m\u001B[1;33m)\u001B[0m\u001B[1;33m\u001B[0m\u001B[1;33m\u001B[0m\u001B[0m\n\u001B[0m\u001B[0;32m     18\u001B[0m \u001B[0msarsa_delay5_avg\u001B[0m\u001B[1;33m,\u001B[0m \u001B[0msarsa_delay5_std\u001B[0m \u001B[1;33m=\u001B[0m \u001B[0mstats_test\u001B[0m\u001B[1;33m(\u001B[0m\u001B[1;33m[\u001B[0m\u001B[1;36m1\u001B[0m\u001B[1;33m,\u001B[0m \u001B[1;36m2\u001B[0m\u001B[1;33m,\u001B[0m \u001B[1;36m3\u001B[0m\u001B[1;33m,\u001B[0m \u001B[1;36m4\u001B[0m\u001B[1;33m,\u001B[0m \u001B[1;36m5\u001B[0m\u001B[1;33m,\u001B[0m \u001B[1;36m6\u001B[0m\u001B[1;33m,\u001B[0m \u001B[1;36m7\u001B[0m\u001B[1;33m,\u001B[0m \u001B[1;36m8\u001B[0m\u001B[1;33m,\u001B[0m \u001B[1;36m9\u001B[0m\u001B[1;33m,\u001B[0m \u001B[1;36m10\u001B[0m\u001B[1;33m]\u001B[0m\u001B[1;33m,\u001B[0m \u001B[0mmethod\u001B[0m\u001B[1;33m=\u001B[0m\u001B[1;34m'sarsa'\u001B[0m\u001B[1;33m,\u001B[0m \u001B[0mtest_type\u001B[0m\u001B[1;33m=\u001B[0m\u001B[1;34m'Delay5'\u001B[0m\u001B[1;33m)\u001B[0m\u001B[1;33m\u001B[0m\u001B[1;33m\u001B[0m\u001B[0m\n\u001B[0;32m     19\u001B[0m \u001B[0msarsa_delay10_avg\u001B[0m\u001B[1;33m,\u001B[0m \u001B[0msarsa_delay10_std\u001B[0m \u001B[1;33m=\u001B[0m \u001B[0mstats_test\u001B[0m\u001B[1;33m(\u001B[0m\u001B[1;33m[\u001B[0m\u001B[1;36m1\u001B[0m\u001B[1;33m,\u001B[0m \u001B[1;36m2\u001B[0m\u001B[1;33m,\u001B[0m \u001B[1;36m3\u001B[0m\u001B[1;33m,\u001B[0m \u001B[1;36m4\u001B[0m\u001B[1;33m,\u001B[0m \u001B[1;36m5\u001B[0m\u001B[1;33m,\u001B[0m \u001B[1;36m6\u001B[0m\u001B[1;33m,\u001B[0m \u001B[1;36m7\u001B[0m\u001B[1;33m,\u001B[0m \u001B[1;36m8\u001B[0m\u001B[1;33m,\u001B[0m \u001B[1;36m9\u001B[0m\u001B[1;33m,\u001B[0m \u001B[1;36m10\u001B[0m\u001B[1;33m]\u001B[0m\u001B[1;33m,\u001B[0m \u001B[0mmethod\u001B[0m\u001B[1;33m=\u001B[0m\u001B[1;34m'sarsa'\u001B[0m\u001B[1;33m,\u001B[0m \u001B[0mtest_type\u001B[0m\u001B[1;33m=\u001B[0m\u001B[1;34m'Delay10'\u001B[0m\u001B[1;33m)\u001B[0m\u001B[1;33m\u001B[0m\u001B[1;33m\u001B[0m\u001B[0m\n",
      "\u001B[1;32m<ipython-input-5-26b561a5dfc3>\u001B[0m in \u001B[0;36mstats_test\u001B[1;34m(folders, method, test_type)\u001B[0m\n\u001B[0;32m     43\u001B[0m \u001B[1;33m\u001B[0m\u001B[0m\n\u001B[0;32m     44\u001B[0m \u001B[1;32mdef\u001B[0m \u001B[0mstats_test\u001B[0m\u001B[1;33m(\u001B[0m\u001B[0mfolders\u001B[0m\u001B[1;33m,\u001B[0m \u001B[0mmethod\u001B[0m\u001B[1;33m=\u001B[0m\u001B[1;32mNone\u001B[0m\u001B[1;33m,\u001B[0m \u001B[0mtest_type\u001B[0m\u001B[1;33m=\u001B[0m\u001B[1;32mNone\u001B[0m\u001B[1;33m)\u001B[0m\u001B[1;33m:\u001B[0m\u001B[1;33m\u001B[0m\u001B[1;33m\u001B[0m\u001B[0m\n\u001B[1;32m---> 45\u001B[1;33m     \u001B[0mrewards\u001B[0m \u001B[1;33m=\u001B[0m \u001B[0mload_test_reward\u001B[0m\u001B[1;33m(\u001B[0m\u001B[0mfolders\u001B[0m\u001B[1;33m[\u001B[0m\u001B[1;36m0\u001B[0m\u001B[1;33m]\u001B[0m\u001B[1;33m,\u001B[0m \u001B[0mmethod\u001B[0m\u001B[1;33m=\u001B[0m\u001B[0mmethod\u001B[0m\u001B[1;33m,\u001B[0m \u001B[0mtest_type\u001B[0m\u001B[1;33m=\u001B[0m\u001B[0mtest_type\u001B[0m\u001B[1;33m)\u001B[0m\u001B[1;33m\u001B[0m\u001B[1;33m\u001B[0m\u001B[0m\n\u001B[0m\u001B[0;32m     46\u001B[0m     \u001B[0mstds\u001B[0m \u001B[1;33m=\u001B[0m \u001B[0mload_test_std\u001B[0m\u001B[1;33m(\u001B[0m\u001B[0mfolders\u001B[0m\u001B[1;33m[\u001B[0m\u001B[1;36m0\u001B[0m\u001B[1;33m]\u001B[0m\u001B[1;33m,\u001B[0m \u001B[0mmethod\u001B[0m\u001B[1;33m=\u001B[0m\u001B[0mmethod\u001B[0m\u001B[1;33m,\u001B[0m \u001B[0mtest_type\u001B[0m\u001B[1;33m=\u001B[0m\u001B[0mtest_type\u001B[0m\u001B[1;33m)\u001B[0m\u001B[1;33m\u001B[0m\u001B[1;33m\u001B[0m\u001B[0m\n\u001B[0;32m     47\u001B[0m     \u001B[1;32mfor\u001B[0m \u001B[0mfolder\u001B[0m \u001B[1;32min\u001B[0m \u001B[0mfolders\u001B[0m\u001B[1;33m[\u001B[0m\u001B[1;36m1\u001B[0m\u001B[1;33m:\u001B[0m\u001B[1;33m]\u001B[0m\u001B[1;33m:\u001B[0m\u001B[1;33m\u001B[0m\u001B[1;33m\u001B[0m\u001B[0m\n",
      "\u001B[1;32m<ipython-input-5-26b561a5dfc3>\u001B[0m in \u001B[0;36mload_test_reward\u001B[1;34m(folder_number, method, test_type)\u001B[0m\n\u001B[0;32m     32\u001B[0m                              \u001B[1;34m'PendulumDelayEnv-run'\u001B[0m \u001B[1;33m+\u001B[0m \u001B[0mstr\u001B[0m\u001B[1;33m(\u001B[0m\u001B[0mfolder_number\u001B[0m\u001B[1;33m)\u001B[0m\u001B[1;33m,\u001B[0m\u001B[1;33m\u001B[0m\u001B[1;33m\u001B[0m\u001B[0m\n\u001B[0;32m     33\u001B[0m                              'test_result.pt')\n\u001B[1;32m---> 34\u001B[1;33m     \u001B[0mckpt\u001B[0m \u001B[1;33m=\u001B[0m \u001B[0mtorch\u001B[0m\u001B[1;33m.\u001B[0m\u001B[0mload\u001B[0m\u001B[1;33m(\u001B[0m\u001B[0mload_path\u001B[0m\u001B[1;33m)\u001B[0m\u001B[1;33m\u001B[0m\u001B[1;33m\u001B[0m\u001B[0m\n\u001B[0m\u001B[0;32m     35\u001B[0m     \u001B[1;32mreturn\u001B[0m \u001B[1;33m[\u001B[0m\u001B[0mnp\u001B[0m\u001B[1;33m.\u001B[0m\u001B[0maverage\u001B[0m\u001B[1;33m(\u001B[0m\u001B[0mckpt\u001B[0m\u001B[1;33m)\u001B[0m\u001B[1;33m]\u001B[0m\u001B[1;33m\u001B[0m\u001B[1;33m\u001B[0m\u001B[0m\n\u001B[0;32m     36\u001B[0m \u001B[1;33m\u001B[0m\u001B[0m\n",
      "\u001B[1;32m~\\.conda\\envs\\Thesis\\lib\\site-packages\\torch\\serialization.py\u001B[0m in \u001B[0;36mload\u001B[1;34m(f, map_location, pickle_module, **pickle_load_args)\u001B[0m\n\u001B[0;32m    582\u001B[0m         \u001B[0mpickle_load_args\u001B[0m\u001B[1;33m[\u001B[0m\u001B[1;34m'encoding'\u001B[0m\u001B[1;33m]\u001B[0m \u001B[1;33m=\u001B[0m \u001B[1;34m'utf-8'\u001B[0m\u001B[1;33m\u001B[0m\u001B[1;33m\u001B[0m\u001B[0m\n\u001B[0;32m    583\u001B[0m \u001B[1;33m\u001B[0m\u001B[0m\n\u001B[1;32m--> 584\u001B[1;33m     \u001B[1;32mwith\u001B[0m \u001B[0m_open_file_like\u001B[0m\u001B[1;33m(\u001B[0m\u001B[0mf\u001B[0m\u001B[1;33m,\u001B[0m \u001B[1;34m'rb'\u001B[0m\u001B[1;33m)\u001B[0m \u001B[1;32mas\u001B[0m \u001B[0mopened_file\u001B[0m\u001B[1;33m:\u001B[0m\u001B[1;33m\u001B[0m\u001B[1;33m\u001B[0m\u001B[0m\n\u001B[0m\u001B[0;32m    585\u001B[0m         \u001B[1;32mif\u001B[0m \u001B[0m_is_zipfile\u001B[0m\u001B[1;33m(\u001B[0m\u001B[0mopened_file\u001B[0m\u001B[1;33m)\u001B[0m\u001B[1;33m:\u001B[0m\u001B[1;33m\u001B[0m\u001B[1;33m\u001B[0m\u001B[0m\n\u001B[0;32m    586\u001B[0m             \u001B[1;32mwith\u001B[0m \u001B[0m_open_zipfile_reader\u001B[0m\u001B[1;33m(\u001B[0m\u001B[0mf\u001B[0m\u001B[1;33m)\u001B[0m \u001B[1;32mas\u001B[0m \u001B[0mopened_zipfile\u001B[0m\u001B[1;33m:\u001B[0m\u001B[1;33m\u001B[0m\u001B[1;33m\u001B[0m\u001B[0m\n",
      "\u001B[1;32m~\\.conda\\envs\\Thesis\\lib\\site-packages\\torch\\serialization.py\u001B[0m in \u001B[0;36m_open_file_like\u001B[1;34m(name_or_buffer, mode)\u001B[0m\n\u001B[0;32m    232\u001B[0m \u001B[1;32mdef\u001B[0m \u001B[0m_open_file_like\u001B[0m\u001B[1;33m(\u001B[0m\u001B[0mname_or_buffer\u001B[0m\u001B[1;33m,\u001B[0m \u001B[0mmode\u001B[0m\u001B[1;33m)\u001B[0m\u001B[1;33m:\u001B[0m\u001B[1;33m\u001B[0m\u001B[1;33m\u001B[0m\u001B[0m\n\u001B[0;32m    233\u001B[0m     \u001B[1;32mif\u001B[0m \u001B[0m_is_path\u001B[0m\u001B[1;33m(\u001B[0m\u001B[0mname_or_buffer\u001B[0m\u001B[1;33m)\u001B[0m\u001B[1;33m:\u001B[0m\u001B[1;33m\u001B[0m\u001B[1;33m\u001B[0m\u001B[0m\n\u001B[1;32m--> 234\u001B[1;33m         \u001B[1;32mreturn\u001B[0m \u001B[0m_open_file\u001B[0m\u001B[1;33m(\u001B[0m\u001B[0mname_or_buffer\u001B[0m\u001B[1;33m,\u001B[0m \u001B[0mmode\u001B[0m\u001B[1;33m)\u001B[0m\u001B[1;33m\u001B[0m\u001B[1;33m\u001B[0m\u001B[0m\n\u001B[0m\u001B[0;32m    235\u001B[0m     \u001B[1;32melse\u001B[0m\u001B[1;33m:\u001B[0m\u001B[1;33m\u001B[0m\u001B[1;33m\u001B[0m\u001B[0m\n\u001B[0;32m    236\u001B[0m         \u001B[1;32mif\u001B[0m \u001B[1;34m'w'\u001B[0m \u001B[1;32min\u001B[0m \u001B[0mmode\u001B[0m\u001B[1;33m:\u001B[0m\u001B[1;33m\u001B[0m\u001B[1;33m\u001B[0m\u001B[0m\n",
      "\u001B[1;32m~\\.conda\\envs\\Thesis\\lib\\site-packages\\torch\\serialization.py\u001B[0m in \u001B[0;36m__init__\u001B[1;34m(self, name, mode)\u001B[0m\n\u001B[0;32m    213\u001B[0m \u001B[1;32mclass\u001B[0m \u001B[0m_open_file\u001B[0m\u001B[1;33m(\u001B[0m\u001B[0m_opener\u001B[0m\u001B[1;33m)\u001B[0m\u001B[1;33m:\u001B[0m\u001B[1;33m\u001B[0m\u001B[1;33m\u001B[0m\u001B[0m\n\u001B[0;32m    214\u001B[0m     \u001B[1;32mdef\u001B[0m \u001B[0m__init__\u001B[0m\u001B[1;33m(\u001B[0m\u001B[0mself\u001B[0m\u001B[1;33m,\u001B[0m \u001B[0mname\u001B[0m\u001B[1;33m,\u001B[0m \u001B[0mmode\u001B[0m\u001B[1;33m)\u001B[0m\u001B[1;33m:\u001B[0m\u001B[1;33m\u001B[0m\u001B[1;33m\u001B[0m\u001B[0m\n\u001B[1;32m--> 215\u001B[1;33m         \u001B[0msuper\u001B[0m\u001B[1;33m(\u001B[0m\u001B[0m_open_file\u001B[0m\u001B[1;33m,\u001B[0m \u001B[0mself\u001B[0m\u001B[1;33m)\u001B[0m\u001B[1;33m.\u001B[0m\u001B[0m__init__\u001B[0m\u001B[1;33m(\u001B[0m\u001B[0mopen\u001B[0m\u001B[1;33m(\u001B[0m\u001B[0mname\u001B[0m\u001B[1;33m,\u001B[0m \u001B[0mmode\u001B[0m\u001B[1;33m)\u001B[0m\u001B[1;33m)\u001B[0m\u001B[1;33m\u001B[0m\u001B[1;33m\u001B[0m\u001B[0m\n\u001B[0m\u001B[0;32m    216\u001B[0m \u001B[1;33m\u001B[0m\u001B[0m\n\u001B[0;32m    217\u001B[0m     \u001B[1;32mdef\u001B[0m \u001B[0m__exit__\u001B[0m\u001B[1;33m(\u001B[0m\u001B[0mself\u001B[0m\u001B[1;33m,\u001B[0m \u001B[1;33m*\u001B[0m\u001B[0margs\u001B[0m\u001B[1;33m)\u001B[0m\u001B[1;33m:\u001B[0m\u001B[1;33m\u001B[0m\u001B[1;33m\u001B[0m\u001B[0m\n",
      "\u001B[1;31mFileNotFoundError\u001B[0m: [Errno 2] No such file or directory: '../output/sarsa/PendulumDelayEnv/Results-Delay3\\\\PendulumDelayEnv-run1\\\\test_result.pt'"
     ]
    }
   ],
   "source": [
    "dtrpo_delay3_avg, dtrpo_delay3_std = stats_test([1, 2, 3, 4, 5, 6, 7, 8, 9, 10], method='dtrpo', test_type='DET-Delay3')\n",
    "dtrpo_delay5_avg, dtrpo_delay5_std = stats_test([1, 2, 3, 4, 5, 6, 7, 8, 9, 10], method='dtrpo', test_type='DET-Delay5')\n",
    "dtrpo_delay10_avg, dtrpo_delay10_std = stats_test([1, 2, 3, 4, 5, 6, 7, 8, 9, 10], method='dtrpo', test_type='DET-Delay10')\n",
    "dtrpo_delay15_avg, dtrpo_delay15_std = stats_test([1, 2, 3, 4, 5, 6, 7, 8, 9, 10], method='dtrpo', test_type='DET-Delay15')\n",
    "dtrpo_delay20_avg, dtrpo_delay20_std = stats_test([1, 2, 3, 4, 5, 6, 7, 8, 9, 10], method='dtrpo', test_type='DET-Delay20')\n",
    "dtrpo_avg = [dtrpo_delay3_avg, dtrpo_delay5_avg, dtrpo_delay10_avg, dtrpo_delay15_avg, dtrpo_delay20_avg]\n",
    "dtrpo_std = [dtrpo_delay3_std, dtrpo_delay5_std, dtrpo_delay10_std, dtrpo_delay15_std, dtrpo_delay20_std]\n",
    "\n",
    "trpo_delay3_avg, trpo_delay3_std = stats_test([1, 2, 3, 4, 5, 6, 7, 8, 9, 10], method='trpo', test_type='Delay3')\n",
    "trpo_delay5_avg, trpo_delay5_std = stats_test([1, 2, 3, 4, 5, 6, 7, 8, 9, 10], method='trpo', test_type='Delay5')\n",
    "trpo_delay10_avg, trpo_delay10_std = stats_test([1, 2, 3, 4, 5, 6, 7, 8, 9, 10], method='trpo', test_type='Delay10')\n",
    "trpo_delay15_avg, trpo_delay15_std = stats_test([1, 2, 3, 4, 5, 6, 7, 8, 9], method='trpo', test_type='Delay15')\n",
    "trpo_delay20_avg, trpo_delay20_std = stats_test([1, 2, 3, 4, 5, 6, 7, 8, 9, 10], method='trpo', test_type='Delay20')\n",
    "trpo_avg = [trpo_delay3_avg, trpo_delay5_avg, trpo_delay10_avg, trpo_delay15_avg, trpo_delay20_avg]\n",
    "trpo_std = [trpo_delay3_std, trpo_delay5_std, trpo_delay10_std, trpo_delay15_std, trpo_delay20_std]\n",
    "\n",
    "sarsa_delay3_avg, sarsa_delay3_std = stats_test([1, 2, 3, 4, 5, 6, 7, 8, 9, 10], method='sarsa', test_type='Delay3')\n",
    "sarsa_delay5_avg, sarsa_delay5_std = stats_test([1, 2, 3, 4, 5, 6, 7, 8, 9, 10], method='sarsa', test_type='Delay5')\n",
    "sarsa_delay10_avg, sarsa_delay10_std = stats_test([1, 2, 3, 4, 5, 6, 7, 8, 9, 10], method='sarsa', test_type='Delay10')\n",
    "sarsa_delay15_avg, sarsa_delay15_std = stats_test([1, 2, 3, 4, 5, 6, 7, 8, 9, 10], method='sarsa', test_type='Delay15')\n",
    "sarsa_delay20_avg, sarsa_delay20_std = stats_test([1, 2, 3, 4, 5, 6, 7, 8, 9, 10], method='sarsa', test_type='Delay20')\n",
    "sarsa_avg = [sarsa_delay3_avg, sarsa_delay5_avg, sarsa_delay10_avg, sarsa_delay15_avg, sarsa_delay20_avg]\n",
    "sarsa_std = [sarsa_delay3_std, sarsa_delay5_std, sarsa_delay10_std, sarsa_delay15_std, sarsa_delay20_std]\n",
    "\n",
    "plt.rc('font', family='serif')\n",
    "plt.rc('xtick', labelsize='medium')\n",
    "plt.rc('ytick', labelsize='medium')\n",
    "plt.rc('axes', titlesize='x-large')\n",
    "plt.rc('axes', labelsize='x-large')\n",
    "plt.rc('legend', handleheight=2)\n",
    "\n",
    "x = ['3', '5', '10', '15', '20']\n",
    "fig = plt.figure(figsize=(8, 5))\n",
    "ax = fig.add_subplot(1, 1, 1)\n",
    "\n",
    "ax.errorbar(x, dtrpo_avg, yerr=dtrpo_std, color='darkorange', ls='solid',\n",
    "            alpha=0.9, linewidth=2, ecolor='orange', elinewidth=2, capsize=7, label='DTRPO')\n",
    "ax.errorbar(x, trpo_avg, yerr=trpo_std, color='forestgreen', ls='dashed',\n",
    "            alpha=0.9, linewidth=2, ecolor='green', elinewidth=2, capsize=7, label='TRPO')\n",
    "ax.errorbar(x, sarsa_avg, yerr=sarsa_std, color='steelblue', ls='dashdot',\n",
    "            alpha=0.9, linewidth=2, ecolor='lightblue', elinewidth=2, capsize=7, label='SARSA(0.9)')\n",
    "ax.legend(fontsize='small')\n",
    "ax.set_xlabel('Simulated Delay-steps')\n",
    "ax.set_ylabel('Average Reward')\n",
    "fig.savefig('./paper_plots/InvertedPendulumSummary.png', dpi=1000)"
   ],
   "metadata": {
    "collapsed": false,
    "pycharm": {
     "name": "#%%\n"
    }
   }
  }
 ],
 "metadata": {
  "kernelspec": {
   "display_name": "Python 3",
   "language": "python",
   "name": "python3"
  },
  "language_info": {
   "codemirror_mode": {
    "name": "ipython",
    "version": 2
   },
   "file_extension": ".py",
   "mimetype": "text/x-python",
   "name": "python",
   "nbconvert_exporter": "python",
   "pygments_lexer": "ipython2",
   "version": "2.7.6"
  }
 },
 "nbformat": 4,
 "nbformat_minor": 0
}