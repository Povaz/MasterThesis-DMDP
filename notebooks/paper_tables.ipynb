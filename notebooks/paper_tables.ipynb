{
 "cells": [
  {
   "cell_type": "markdown",
   "metadata": {
    "collapsed": true,
    "pycharm": {
     "name": "#%% md\n"
    }
   },
   "source": [
    "# Paper Table Data"
   ]
  },
  {
   "cell_type": "code",
   "execution_count": 1,
   "outputs": [],
   "source": [
    "from matplotlib import pyplot as plt\n",
    "import numpy as np\n",
    "import torch\n",
    "import os\n",
    "\n",
    "def load_test(folder_number=0, test_type=None, delay_test=None):\n",
    "    load_path = os.path.join('../output/dtrpo/PendulumDelayEnv/',\n",
    "                         'Results-' + test_type + '/',\n",
    "                         'PendulumDelayEnv-run' + str(folder_number),\n",
    "                         'test_result_' + str(delay_test) + '.pt')\n",
    "    ckpt = torch.load(load_path)\n",
    "    return ckpt\n",
    "\n",
    "def stats_test(folders, test_type=None, delay_test=None):\n",
    "    rewards = load_test(folders[0], test_type=test_type, delay_test=delay_test)\n",
    "    for folder in folders[1:]:\n",
    "        rewards= rewards + load_test(folder, test_type=test_type, delay_test=delay_test)\n",
    "    mean = np.average(rewards)\n",
    "    std = np.std(rewards)\n",
    "    return mean, std"
   ],
   "metadata": {
    "collapsed": false,
    "pycharm": {
     "name": "#%%\n"
    }
   }
  },
  {
   "cell_type": "code",
   "execution_count": 11,
   "outputs": [
    {
     "name": "stdout",
     "output_type": "stream",
     "text": [
      "+----------------+-------------------+-------------------+--------------------+--------------------+\n",
      "|   Test Setup   |   3-Steps Delay   |   5-Steps Delay   |   10-Steps Delay   |   15-Steps Delay   |\n",
      "+----------------+-------------------+-------------------+--------------------+--------------------+\n",
      "| 3-Steps Delay  | -213.97 +/-174.31 | -835.44 +/-349.42 | -1190.59 +/-138.14 | -1617.01 +/-181.3  |\n",
      "| 5-Steps Delay  | -212.13 +/-172.77 | -206.76 +/-139.38 | -1173.84 +/-183.62 | -1461.24 +/-204.63 |\n",
      "| 10-Steps Delay |  -165.88 +/-99.54 | -174.77 +/-101.25 | -219.83 +/-109.71  | -1267.55 +/-157.02 |\n",
      "| 15-Steps Delay |  -314.5 +/-212.65 |  -331.4 +/-192.11 | -395.35 +/-210.18  |  -623.48 +/-245.4  |\n",
      "+----------------+-------------------+-------------------+--------------------+--------------------+\n"
     ]
    }
   ],
   "source": [
    "mean_3_3, std_3_3 = stats_test([1, 2, 3, 4, 5, 6, 7, 8, 9, 10], test_type='DET-Delay3', delay_test=3)\n",
    "mean_3_5, std_3_5 = stats_test([1, 2, 3, 4, 5, 6, 7, 8, 9, 10], test_type='DET-Delay3', delay_test=5)\n",
    "mean_3_10, std_3_10 = stats_test([1, 2, 3, 4, 5, 6, 7, 8, 9, 10], test_type='DET-Delay3', delay_test=10)\n",
    "mean_3_15, std_3_15 = stats_test([1, 2, 3, 4, 5, 6, 7, 8, 9, 10], test_type='DET-Delay3', delay_test=15)\n",
    "\n",
    "mean_5_3, std_5_3 = stats_test([1, 2, 3, 4, 5, 6, 7, 8, 9, 10], test_type='DET-Delay5', delay_test=3)\n",
    "mean_5_5, std_5_5 = stats_test([1, 2, 3, 4, 5, 6, 7, 8, 9, 10], test_type='DET-Delay5', delay_test=5)\n",
    "mean_5_10, std_5_10 = stats_test([1, 2, 3, 4, 5, 6, 7, 8, 9, 10], test_type='DET-Delay5', delay_test=10)\n",
    "mean_5_15, std_5_15 = stats_test([1, 2, 3, 4, 5, 6, 7, 8, 9, 10], test_type='DET-Delay5', delay_test=15)\n",
    "\n",
    "mean_10_3, std_10_3 = stats_test([1, 2, 3, 4, 5, 6, 7, 8, 9, 10], test_type='DET-Delay10', delay_test=3)\n",
    "mean_10_5, std_10_5 = stats_test([1, 2, 3, 4, 5, 6, 7, 8, 9, 10], test_type='DET-Delay10', delay_test=5)\n",
    "mean_10_10, std_10_10 = stats_test([1, 2, 3, 4, 5, 6, 7, 8, 9, 10], test_type='DET-Delay10', delay_test=10)\n",
    "mean_10_15, std_10_15 = stats_test([1, 2, 3, 4, 5, 6, 7, 8, 9, 10], test_type='DET-Delay10', delay_test=15)\n",
    "\n",
    "mean_15_3, std_15_3 = stats_test([1, 2, 3, 4, 5, 6, 7, 8, 9, 10], test_type='DET-Delay15', delay_test=3)\n",
    "mean_15_5, std_15_5 = stats_test([1, 2, 3, 4, 5, 6, 7, 8, 9, 10], test_type='DET-Delay15', delay_test=5)\n",
    "mean_15_10, std_15_10 = stats_test([1, 2, 3, 4, 5, 6, 7, 8, 9, 10], test_type='DET-Delay15', delay_test=10)\n",
    "mean_15_15, std_15_15 = stats_test([1, 2, 3, 4, 5, 6, 7, 8, 9, 10], test_type='DET-Delay15', delay_test=15)\n",
    "\n",
    "from prettytable import PrettyTable\n",
    "t = PrettyTable(['Test Setup', '3-Steps Delay', '5-Steps Delay', '10-Steps Delay', '15-Steps Delay'])\n",
    "t.add_row(['3-Steps Delay',\n",
    "           str(np.around(mean_3_3, decimals=2)) + ' +/-' + str(np.around(std_3_3, decimals=2)),\n",
    "           str(np.around(mean_3_5, decimals=2)) + ' +/-' + str(np.around(std_3_5, decimals=2)),\n",
    "           str(np.around(mean_3_10, decimals=2)) + ' +/-' + str(np.around(std_3_10, decimals=2)),\n",
    "           str(np.around(mean_3_15, decimals=2)) + ' +/-' + str(np.around(std_3_15, decimals=2))])\n",
    "t.add_row(['5-Steps Delay',\n",
    "           str(np.around(mean_5_3, decimals=2)) + ' +/-' + str(np.around(std_5_3, decimals=2)),\n",
    "           str(np.around(mean_5_5, decimals=2)) + ' +/-' + str(np.around(std_5_5, decimals=2)),\n",
    "           str(np.around(mean_5_10, decimals=2)) + ' +/-' + str(np.around(std_5_10, decimals=2)),\n",
    "           str(np.around(mean_5_15, decimals=2)) + ' +/-' + str(np.around(std_5_15, decimals=2))])\n",
    "t.add_row(['10-Steps Delay',\n",
    "           str(np.around(mean_10_3, decimals=2)) + ' +/-' + str(np.around(std_10_3, decimals=2)),\n",
    "           str(np.around(mean_10_5, decimals=2)) + ' +/-' + str(np.around(std_10_5, decimals=2)),\n",
    "           str(np.around(mean_10_10, decimals=2)) + ' +/-' + str(np.around(std_10_10, decimals=2)),\n",
    "           str(np.around(mean_10_15, decimals=2)) + ' +/-' + str(np.around(std_10_15, decimals=2))])\n",
    "t.add_row(['15-Steps Delay',\n",
    "           str(np.around(mean_15_3, decimals=2)) + ' +/-' + str(np.around(std_15_3, decimals=2)),\n",
    "           str(np.around(mean_15_5, decimals=2)) + ' +/-' + str(np.around(std_15_5, decimals=2)),\n",
    "           str(np.around(mean_15_10, decimals=2)) + ' +/-' + str(np.around(std_15_10, decimals=2)),\n",
    "           str(np.around(mean_15_15, decimals=2)) + ' +/-' + str(np.around(std_15_15, decimals=2))])\n",
    "print(t)"
   ],
   "metadata": {
    "collapsed": false,
    "pycharm": {
     "name": "#%%\n"
    }
   }
  },
  {
   "cell_type": "code",
   "execution_count": 3,
   "outputs": [
    {
     "name": "stdout",
     "output_type": "stream",
     "text": [
      "+----------------+--------------------+--------------------+--------------------+\n",
      "|   Test Setup   |       P=0.7        |       P=0.6        |       P=0.55       |\n",
      "+----------------+--------------------+--------------------+--------------------+\n",
      "| 10-Steps Delay |  -163.75 +/-95.49  | -181.69 +/-107.51  | -287.27 +/-206.19  |\n",
      "|     P=0.7      | -746.58 +/-418.04  | -809.82 +/-374.34  | -926.41 +/-329.89  |\n",
      "|     P=0.6      | -1067.21 +/-390.56 | -1051.3 +/-348.58  | -1087.86 +/-298.34 |\n",
      "|     P=0-55     | -1031.23 +/-402.86 | -1000.47 +/-315.46 | -1030.26 +/-257.16 |\n",
      "+----------------+--------------------+--------------------+--------------------+\n"
     ]
    }
   ],
   "source": [
    "mean_10_07, std_10_07 = stats_test([1, 2, 3, 4, 5, 6, 7, 8, 9, 10], test_type='DET-Delay10', delay_test=0.7)\n",
    "mean_10_06, std_10_06 = stats_test([1, 2, 3, 4, 5, 6, 7, 8, 9, 10], test_type='DET-Delay10', delay_test=0.6)\n",
    "mean_10_055, std_10_055 = stats_test([1, 2, 3, 4, 5, 6, 7, 8, 9, 10], test_type='DET-Delay10', delay_test=0.55)\n",
    "\n",
    "mean_07_07, std_07_07 = stats_test([1, 2, 3, 4, 5, 6, 7, 8, 9, 10], test_type='STC-DelayP07', delay_test=0.7)\n",
    "mean_07_06, std_07_06 = stats_test([1, 2, 3, 4, 5, 6, 7, 8, 9, 10], test_type='STC-DelayP07', delay_test=0.6)\n",
    "mean_07_055, std_07_055 = stats_test([1, 2, 3, 4, 5, 6, 7, 8, 9, 10], test_type='STC-DelayP07', delay_test=0.55)\n",
    "\n",
    "mean_06_07, std_06_07 = stats_test([1, 2, 3, 4, 5, 6, 7, 8, 9, 10], test_type='STC-DelayP06', delay_test=0.7)\n",
    "mean_06_06, std_06_06 = stats_test([1, 2, 3, 4, 5, 6, 7, 8, 9, 10], test_type='STC-DelayP06', delay_test=0.6)\n",
    "mean_06_055, std_06_055 = stats_test([1, 2, 3, 4, 5, 6, 7, 8, 9, 10], test_type='STC-DelayP06', delay_test=0.55)\n",
    "\n",
    "mean_055_07, std_055_07 = stats_test([1, 2, 3, 4, 5, 6, 7, 8, 9, 10], test_type='STC-DelayP055', delay_test=0.7)\n",
    "mean_055_06, std_055_06 = stats_test([1, 2, 3, 4, 5, 6, 7, 8, 9, 10], test_type='STC-DelayP055', delay_test=0.6)\n",
    "mean_055_055, std_055_055 = stats_test([1, 2, 3, 4, 5, 6, 7, 8, 9, 10], test_type='STC-DelayP055', delay_test=0.55)\n",
    "\n",
    "from prettytable import PrettyTable\n",
    "t = PrettyTable(['Test Setup', 'P=0.7', 'P=0.6', 'P=0.55'])\n",
    "t.add_row(['10-Steps Delay',\n",
    "           str(np.around(mean_10_07, decimals=2)) + ' +/-' + str(np.around(std_10_07, decimals=2)),\n",
    "           str(np.around(mean_10_06, decimals=2)) + ' +/-' + str(np.around(std_10_06, decimals=2)),\n",
    "           str(np.around(mean_10_055, decimals=2)) + ' +/-' + str(np.around(std_10_055, decimals=2))])\n",
    "t.add_row(['P=0.7',\n",
    "           str(np.around(mean_07_07, decimals=2)) + ' +/-' + str(np.around(std_07_07, decimals=2)),\n",
    "           str(np.around(mean_07_06, decimals=2)) + ' +/-' + str(np.around(std_07_06, decimals=2)),\n",
    "           str(np.around(mean_07_055, decimals=2)) + ' +/-' + str(np.around(std_07_055, decimals=2))])\n",
    "t.add_row(['P=0.6',\n",
    "           str(np.around(mean_06_07, decimals=2)) + ' +/-' + str(np.around(std_06_07, decimals=2)),\n",
    "           str(np.around(mean_06_06, decimals=2)) + ' +/-' + str(np.around(std_06_06, decimals=2)),\n",
    "           str(np.around(mean_06_055, decimals=2)) + ' +/-' + str(np.around(std_06_055, decimals=2))])\n",
    "t.add_row(['P=0-55',\n",
    "           str(np.around(mean_055_07, decimals=2)) + ' +/-' + str(np.around(std_055_07, decimals=2)),\n",
    "           str(np.around(mean_055_06, decimals=2)) + ' +/-' + str(np.around(std_055_06, decimals=2)),\n",
    "           str(np.around(mean_055_055, decimals=2)) + ' +/-' + str(np.around(std_055_055, decimals=2))])\n",
    "print(t)"
   ],
   "metadata": {
    "collapsed": false,
    "pycharm": {
     "name": "#%%\n"
    }
   }
  },
  {
   "cell_type": "code",
   "execution_count": null,
   "outputs": [],
   "source": [
    "\n"
   ],
   "metadata": {
    "collapsed": false,
    "pycharm": {
     "name": "#%%\n"
    }
   }
  }
 ],
 "metadata": {
  "kernelspec": {
   "display_name": "Python 3",
   "language": "python",
   "name": "python3"
  },
  "language_info": {
   "codemirror_mode": {
    "name": "ipython",
    "version": 2
   },
   "file_extension": ".py",
   "mimetype": "text/x-python",
   "name": "python",
   "nbconvert_exporter": "python",
   "pygments_lexer": "ipython2",
   "version": "2.7.6"
  }
 },
 "nbformat": 4,
 "nbformat_minor": 0
}