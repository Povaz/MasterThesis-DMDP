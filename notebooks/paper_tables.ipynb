{
 "cells": [
  {
   "cell_type": "markdown",
   "metadata": {
    "collapsed": true,
    "pycharm": {
     "name": "#%% md\n"
    }
   },
   "source": [
    "# Paper Table Data"
   ]
  },
  {
   "cell_type": "code",
   "execution_count": 4,
   "outputs": [],
   "source": [
    "import numpy as np\n",
    "import torch\n",
    "import os\n",
    "\n",
    "def load_test_reward(folder_number=0, method=None, test_type=None, delay_test=None):\n",
    "    load_path = os.path.join('../output/' + method + '/PendulumDelayEnv/Results-' + test_type,\n",
    "                             'PendulumDelayEnv-run' + str(folder_number),\n",
    "                             'test_result_' + str(delay_test) + '.pt')\n",
    "    ckpt = torch.load(load_path)\n",
    "    return [np.average(ckpt)]\n",
    "\n",
    "def load_test_std(folder_number=0, method=None, test_type=None, delay_test=None):\n",
    "    load_path = os.path.join('../output/' + method + '/PendulumDelayEnv/Results-' + test_type,\n",
    "                             'PendulumDelayEnv-run' + str(folder_number),\n",
    "                             'test_result_' + str(delay_test) + '.pt')\n",
    "    ckpt = torch.load(load_path)\n",
    "    return [np.std(ckpt)]\n",
    "\n",
    "def stats_test(folders, method='dtrpo', test_type=None, delay_test=None):\n",
    "    rewards = load_test_reward(folders[0], method=method, test_type=test_type, delay_test=delay_test)\n",
    "    stds = load_test_std(folders[0], method=method, test_type=test_type, delay_test=delay_test)\n",
    "    for folder in folders[1:]:\n",
    "        rewards = rewards + load_test_reward(folder, method=method, test_type=test_type, delay_test=delay_test)\n",
    "        stds = stds + load_test_std(folder, method=method, test_type=test_type, delay_test=delay_test)\n",
    "    mean = np.average(rewards)\n",
    "    std = np.average(stds)\n",
    "    return mean, std"
   ],
   "metadata": {
    "collapsed": false,
    "pycharm": {
     "name": "#%%\n"
    }
   }
  },
  {
   "cell_type": "code",
   "execution_count": 8,
   "outputs": [
    {
     "name": "stdout",
     "output_type": "stream",
     "text": [
      "+----------------+------------------+-------------------+-------------------+--------------------+\n",
      "|   Test Setup   |  3-Steps Delay   |   5-Steps Delay   |   10-Steps Delay  |   15-Steps Delay   |\n",
      "+----------------+------------------+-------------------+-------------------+--------------------+\n",
      "| 3-Steps Delay  | -213.97 +/-97.41 | -835.44 +/-169.35 |  -1190.59 +/-82.2 | -1617.01 +/-82.23  |\n",
      "| 5-Steps Delay  | -212.13 +/-96.36 | -206.76 +/-101.39 | -1173.84 +/-96.11 | -1461.24 +/-122.05 |\n",
      "| 10-Steps Delay | -165.88 +/-99.11 | -174.77 +/-100.93 | -219.83 +/-109.44 | -1267.55 +/-110.97 |\n",
      "| 15-Steps Delay | -314.5 +/-111.74 |  -331.4 +/-115.01 | -395.35 +/-115.55 | -623.48 +/-133.72  |\n",
      "+----------------+------------------+-------------------+-------------------+--------------------+\n"
     ]
    }
   ],
   "source": [
    "mean_3_3, std_3_3 = stats_test([1, 2, 3, 4, 5, 6, 7, 8, 9, 10], test_type='DET-Delay3', delay_test=3)\n",
    "mean_3_5, std_3_5 = stats_test([1, 2, 3, 4, 5, 6, 7, 8, 9, 10], test_type='DET-Delay3', delay_test=5)\n",
    "mean_3_10, std_3_10 = stats_test([1, 2, 3, 4, 5, 6, 7, 8, 9, 10], test_type='DET-Delay3', delay_test=10)\n",
    "mean_3_15, std_3_15 = stats_test([1, 2, 3, 4, 5, 6, 7, 8, 9, 10], test_type='DET-Delay3', delay_test=15)\n",
    "\n",
    "mean_5_3, std_5_3 = stats_test([1, 2, 3, 4, 5, 6, 7, 8, 9, 10], test_type='DET-Delay5', delay_test=3)\n",
    "mean_5_5, std_5_5 = stats_test([1, 2, 3, 4, 5, 6, 7, 8, 9, 10], test_type='DET-Delay5', delay_test=5)\n",
    "mean_5_10, std_5_10 = stats_test([1, 2, 3, 4, 5, 6, 7, 8, 9, 10], test_type='DET-Delay5', delay_test=10)\n",
    "mean_5_15, std_5_15 = stats_test([1, 2, 3, 4, 5, 6, 7, 8, 9, 10], test_type='DET-Delay5', delay_test=15)\n",
    "\n",
    "mean_10_3, std_10_3 = stats_test([1, 2, 3, 4, 5, 6, 7, 8, 9, 10], test_type='DET-Delay10', delay_test=3)\n",
    "mean_10_5, std_10_5 = stats_test([1, 2, 3, 4, 5, 6, 7, 8, 9, 10], test_type='DET-Delay10', delay_test=5)\n",
    "mean_10_10, std_10_10 = stats_test([1, 2, 3, 4, 5, 6, 7, 8, 9, 10], test_type='DET-Delay10', delay_test=10)\n",
    "mean_10_15, std_10_15 = stats_test([1, 2, 3, 4, 5, 6, 7, 8, 9, 10], test_type='DET-Delay10', delay_test=15)\n",
    "\n",
    "mean_15_3, std_15_3 = stats_test([1, 2, 3, 4, 5, 6, 7, 8, 9, 10], test_type='DET-Delay15', delay_test=3)\n",
    "mean_15_5, std_15_5 = stats_test([1, 2, 3, 4, 5, 6, 7, 8, 9, 10], test_type='DET-Delay15', delay_test=5)\n",
    "mean_15_10, std_15_10 = stats_test([1, 2, 3, 4, 5, 6, 7, 8, 9, 10], test_type='DET-Delay15', delay_test=10)\n",
    "mean_15_15, std_15_15 = stats_test([1, 2, 3, 4, 5, 6, 7, 8, 9, 10], test_type='DET-Delay15', delay_test=15)\n",
    "\n",
    "from prettytable import PrettyTable\n",
    "t = PrettyTable(['Test Setup', '3-Steps Delay', '5-Steps Delay', '10-Steps Delay', '15-Steps Delay'])\n",
    "t.add_row(['3-Steps Delay',\n",
    "           str(np.around(mean_3_3, decimals=2)) + ' +/-' + str(np.around(std_3_3, decimals=2)),\n",
    "           str(np.around(mean_3_5, decimals=2)) + ' +/-' + str(np.around(std_3_5, decimals=2)),\n",
    "           str(np.around(mean_3_10, decimals=2)) + ' +/-' + str(np.around(std_3_10, decimals=2)),\n",
    "           str(np.around(mean_3_15, decimals=2)) + ' +/-' + str(np.around(std_3_15, decimals=2))])\n",
    "t.add_row(['5-Steps Delay',\n",
    "           str(np.around(mean_5_3, decimals=2)) + ' +/-' + str(np.around(std_5_3, decimals=2)),\n",
    "           str(np.around(mean_5_5, decimals=2)) + ' +/-' + str(np.around(std_5_5, decimals=2)),\n",
    "           str(np.around(mean_5_10, decimals=2)) + ' +/-' + str(np.around(std_5_10, decimals=2)),\n",
    "           str(np.around(mean_5_15, decimals=2)) + ' +/-' + str(np.around(std_5_15, decimals=2))])\n",
    "t.add_row(['10-Steps Delay',\n",
    "           str(np.around(mean_10_3, decimals=2)) + ' +/-' + str(np.around(std_10_3, decimals=2)),\n",
    "           str(np.around(mean_10_5, decimals=2)) + ' +/-' + str(np.around(std_10_5, decimals=2)),\n",
    "           str(np.around(mean_10_10, decimals=2)) + ' +/-' + str(np.around(std_10_10, decimals=2)),\n",
    "           str(np.around(mean_10_15, decimals=2)) + ' +/-' + str(np.around(std_10_15, decimals=2))])\n",
    "t.add_row(['15-Steps Delay',\n",
    "           str(np.around(mean_15_3, decimals=2)) + ' +/-' + str(np.around(std_15_3, decimals=2)),\n",
    "           str(np.around(mean_15_5, decimals=2)) + ' +/-' + str(np.around(std_15_5, decimals=2)),\n",
    "           str(np.around(mean_15_10, decimals=2)) + ' +/-' + str(np.around(std_15_10, decimals=2)),\n",
    "           str(np.around(mean_15_15, decimals=2)) + ' +/-' + str(np.around(std_15_15, decimals=2))])\n",
    "print(t)"
   ],
   "metadata": {
    "collapsed": false,
    "pycharm": {
     "name": "#%%\n"
    }
   }
  },
  {
   "cell_type": "code",
   "execution_count": 7,
   "outputs": [
    {
     "name": "stdout",
     "output_type": "stream",
     "text": [
      "+----------------+--------------------+-------------------+--------------------+\n",
      "|   Test Setup   |       P=0.7        |       P=0.6       |       P=0.55       |\n",
      "+----------------+--------------------+-------------------+--------------------+\n",
      "| 3-Steps Delay  |  -252.9 +/-112.56  |  -456.51 +/-164.9 |  -707.0 +/-225.36  |\n",
      "| 5-Steps Delay  | -217.96 +/-103.53  |  -334.34 +/-150.0 | -563.43 +/-231.88  |\n",
      "| 10-Steps Delay |  -163.75 +/-94.71  | -181.69 +/-106.75 | -287.27 +/-203.92  |\n",
      "| 15-Steps Delay | -316.69 +/-113.16  |  -320.34 +/-118.3 | -362.97 +/-160.66  |\n",
      "| 20-Steps Delay |  -941.9 +/-116.64  | -934.32 +/-118.49 |  -929.06 +/-119.4  |\n",
      "|     P=0.7      |  -746.58 +/-145.2  | -809.82 +/-174.81 | -926.41 +/-218.93  |\n",
      "|     P=0.6      | -1067.21 +/-191.09 | -1051.3 +/-201.12 | -1087.86 +/-215.37 |\n",
      "|     P=0-55     | -1031.23 +/-210.07 | -1000.47 +/-187.6 | -1030.26 +/-188.39 |\n",
      "+----------------+--------------------+-------------------+--------------------+\n"
     ]
    }
   ],
   "source": [
    "mean_3_07, std_3_07 = stats_test([1, 2, 3, 4, 5, 6, 7, 8, 9, 10], test_type='DET-Delay3', delay_test=0.7)\n",
    "mean_3_06, std_3_06 = stats_test([1, 2, 3, 4, 5, 6, 7, 8, 9, 10], test_type='DET-Delay3', delay_test=0.6)\n",
    "mean_3_055, std_3_055 = stats_test([1, 2, 3, 4, 5, 6, 7, 8, 9, 10], test_type='DET-Delay3', delay_test=0.55)\n",
    "\n",
    "mean_5_07, std_5_07 = stats_test([1, 2, 3, 4, 5, 6, 7, 8, 9, 10], test_type='DET-Delay5', delay_test=0.7)\n",
    "mean_5_06, std_5_06 = stats_test([1, 2, 3, 4, 5, 6, 7, 8, 9, 10], test_type='DET-Delay5', delay_test=0.6)\n",
    "mean_5_055, std_5_055 = stats_test([1, 2, 3, 4, 5, 6, 7, 8, 9, 10], test_type='DET-Delay5', delay_test=0.55)\n",
    "\n",
    "mean_10_07, std_10_07 = stats_test([1, 2, 3, 4, 5, 6, 7, 8, 9, 10], test_type='DET-Delay10', delay_test=0.7)\n",
    "mean_10_06, std_10_06 = stats_test([1, 2, 3, 4, 5, 6, 7, 8, 9, 10], test_type='DET-Delay10', delay_test=0.6)\n",
    "mean_10_055, std_10_055 = stats_test([1, 2, 3, 4, 5, 6, 7, 8, 9, 10], test_type='DET-Delay10', delay_test=0.55)\n",
    "\n",
    "mean_15_07, std_15_07 = stats_test([1, 2, 3, 4, 5, 6, 7, 8, 9, 10], test_type='DET-Delay15', delay_test=0.7)\n",
    "mean_15_06, std_15_06 = stats_test([1, 2, 3, 4, 5, 6, 7, 8, 9, 10], test_type='DET-Delay15', delay_test=0.6)\n",
    "mean_15_055, std_15_055 = stats_test([1, 2, 3, 4, 5, 6, 7, 8, 9, 10], test_type='DET-Delay15', delay_test=0.55)\n",
    "\n",
    "mean_20_07, std_20_07 = stats_test([1, 2, 3, 4, 5, 6, 7, 8, 9, 10], test_type='DET-Delay20', delay_test=0.7)\n",
    "mean_20_06, std_20_06 = stats_test([1, 2, 3, 4, 5, 6, 7, 8, 9, 10], test_type='DET-Delay20', delay_test=0.6)\n",
    "mean_20_055, std_20_055 = stats_test([1, 2, 3, 4, 5, 6, 7, 8, 9, 10], test_type='DET-Delay20', delay_test=0.55)\n",
    "\n",
    "mean_07_07, std_07_07 = stats_test([1, 2, 3, 4, 5, 6, 7, 8, 9, 10], test_type='STC-DelayP07', delay_test=0.7)\n",
    "mean_07_06, std_07_06 = stats_test([1, 2, 3, 4, 5, 6, 7, 8, 9, 10], test_type='STC-DelayP07', delay_test=0.6)\n",
    "mean_07_055, std_07_055 = stats_test([1, 2, 3, 4, 5, 6, 7, 8, 9, 10], test_type='STC-DelayP07', delay_test=0.55)\n",
    "\n",
    "mean_06_07, std_06_07 = stats_test([1, 2, 3, 4, 5, 6, 7, 8, 9, 10], test_type='STC-DelayP06', delay_test=0.7)\n",
    "mean_06_06, std_06_06 = stats_test([1, 2, 3, 4, 5, 6, 7, 8, 9, 10], test_type='STC-DelayP06', delay_test=0.6)\n",
    "mean_06_055, std_06_055 = stats_test([1, 2, 3, 4, 5, 6, 7, 8, 9, 10], test_type='STC-DelayP06', delay_test=0.55)\n",
    "\n",
    "mean_055_07, std_055_07 = stats_test([1, 2, 3, 4, 5, 6, 7, 8, 9, 10], test_type='STC-DelayP055', delay_test=0.7)\n",
    "mean_055_06, std_055_06 = stats_test([1, 2, 3, 4, 5, 6, 7, 8, 9, 10], test_type='STC-DelayP055', delay_test=0.6)\n",
    "mean_055_055, std_055_055 = stats_test([1, 2, 3, 4, 5, 6, 7, 8, 9, 10], test_type='STC-DelayP055', delay_test=0.55)\n",
    "\n",
    "from prettytable import PrettyTable\n",
    "t = PrettyTable(['Test Setup', 'P=0.7', 'P=0.6', 'P=0.55'])\n",
    "t.add_row(['3-Steps Delay',\n",
    "           str(np.around(mean_3_07, decimals=2)) + ' +/-' + str(np.around(std_3_07, decimals=2)),\n",
    "           str(np.around(mean_3_06, decimals=2)) + ' +/-' + str(np.around(std_3_06, decimals=2)),\n",
    "           str(np.around(mean_3_055, decimals=2)) + ' +/-' + str(np.around(std_3_055, decimals=2))])\n",
    "t.add_row(['5-Steps Delay',\n",
    "           str(np.around(mean_5_07, decimals=2)) + ' +/-' + str(np.around(std_5_07, decimals=2)),\n",
    "           str(np.around(mean_5_06, decimals=2)) + ' +/-' + str(np.around(std_5_06, decimals=2)),\n",
    "           str(np.around(mean_5_055, decimals=2)) + ' +/-' + str(np.around(std_5_055, decimals=2))])\n",
    "t.add_row(['10-Steps Delay',\n",
    "           str(np.around(mean_10_07, decimals=2)) + ' +/-' + str(np.around(std_10_07, decimals=2)),\n",
    "           str(np.around(mean_10_06, decimals=2)) + ' +/-' + str(np.around(std_10_06, decimals=2)),\n",
    "           str(np.around(mean_10_055, decimals=2)) + ' +/-' + str(np.around(std_10_055, decimals=2))])\n",
    "t.add_row(['15-Steps Delay',\n",
    "           str(np.around(mean_15_07, decimals=2)) + ' +/-' + str(np.around(std_15_07, decimals=2)),\n",
    "           str(np.around(mean_15_06, decimals=2)) + ' +/-' + str(np.around(std_15_06, decimals=2)),\n",
    "           str(np.around(mean_15_055, decimals=2)) + ' +/-' + str(np.around(std_15_055, decimals=2))])\n",
    "t.add_row(['20-Steps Delay',\n",
    "           str(np.around(mean_20_07, decimals=2)) + ' +/-' + str(np.around(std_20_07, decimals=2)),\n",
    "           str(np.around(mean_20_06, decimals=2)) + ' +/-' + str(np.around(std_20_06, decimals=2)),\n",
    "           str(np.around(mean_20_055, decimals=2)) + ' +/-' + str(np.around(std_20_055, decimals=2))])\n",
    "t.add_row(['P=0.7',\n",
    "           str(np.around(mean_07_07, decimals=2)) + ' +/-' + str(np.around(std_07_07, decimals=2)),\n",
    "           str(np.around(mean_07_06, decimals=2)) + ' +/-' + str(np.around(std_07_06, decimals=2)),\n",
    "           str(np.around(mean_07_055, decimals=2)) + ' +/-' + str(np.around(std_07_055, decimals=2))])\n",
    "t.add_row(['P=0.6',\n",
    "           str(np.around(mean_06_07, decimals=2)) + ' +/-' + str(np.around(std_06_07, decimals=2)),\n",
    "           str(np.around(mean_06_06, decimals=2)) + ' +/-' + str(np.around(std_06_06, decimals=2)),\n",
    "           str(np.around(mean_06_055, decimals=2)) + ' +/-' + str(np.around(std_06_055, decimals=2))])\n",
    "t.add_row(['P=0-55',\n",
    "           str(np.around(mean_055_07, decimals=2)) + ' +/-' + str(np.around(std_055_07, decimals=2)),\n",
    "           str(np.around(mean_055_06, decimals=2)) + ' +/-' + str(np.around(std_055_06, decimals=2)),\n",
    "           str(np.around(mean_055_055, decimals=2)) + ' +/-' + str(np.around(std_055_055, decimals=2))])\n",
    "print(t)\n"
   ],
   "metadata": {
    "collapsed": false,
    "pycharm": {
     "name": "#%%\n"
    }
   }
  }
 ],
 "metadata": {
  "kernelspec": {
   "display_name": "Python 3",
   "language": "python",
   "name": "python3"
  },
  "language_info": {
   "codemirror_mode": {
    "name": "ipython",
    "version": 2
   },
   "file_extension": ".py",
   "mimetype": "text/x-python",
   "name": "python",
   "nbconvert_exporter": "python",
   "pygments_lexer": "ipython2",
   "version": "2.7.6"
  }
 },
 "nbformat": 4,
 "nbformat_minor": 0
}