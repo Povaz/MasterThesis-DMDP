{
 "cells": [
  {
   "cell_type": "code",
   "execution_count": 28,
   "metadata": {},
   "outputs": [],
   "source": [
    "%matplotlib inline\n",
    "import matplotlib.pyplot as plt\n",
    "import numpy as np\n",
    "import os, gym, json\n",
    "from utils import DTRPOCore as Core\n",
    "from algorithm.dtrpo import DTRPO\n",
    "from utils.various import *\n",
    "from utils.delays import DelayWrapper\n"
   ]
  },
  {
   "cell_type": "code",
   "execution_count": 2,
   "metadata": {},
   "outputs": [],
   "source": [
    "stoch_MDP = True\n",
    "delay_proba = 0.7\n",
    "max_delay = 50\n",
    "stochastic_delays = False\n",
    "delay = 3\n",
    "env_name = 'Pendulum'\n",
    "save_dir = r'C:\\Users\\pierr\\Desktop\\Polimi\\delay_mdp\\dmdp\\output\\dtrpo\\Pendulum-Results\\Pendulum-run24'\n",
    "epoch = 100"
   ]
  },
  {
   "cell_type": "code",
   "execution_count": 3,
   "metadata": {},
   "outputs": [
    {
     "name": "stdout",
     "output_type": "stream",
     "text": [
      "\u001b[94m Number of parameters: \t pi: 4802, \t v: 641, \t enc: 3916\n",
      "\u001b[00m\n"
     ]
    }
   ],
   "source": [
    "env = gym.make(env_name + '-v0')\n",
    "# Add the delay wrapper\n",
    "env = DelayWrapper(env, delay=delay, stochastic_delays=stochastic_delays, p_delay=delay_proba, max_delay=max_delay)\n",
    "\n",
    "\n",
    "save_model = next(filter(lambda x: '.pt' in x, os.listdir(save_dir)))\n",
    "load_parameters = os.path.join(save_dir,'model_parameters.txt')\n",
    "with open(load_parameters) as text_file:\n",
    "    file_args = json.load(text_file)\n",
    "\n",
    "# Policy and belief module parameters \n",
    "ac_kwargs = dict(\n",
    "    pi_hidden_sizes=[file_args['pi_hid']] * file_args['pi_l'],\n",
    "    v_hidden_sizes=[file_args['v_hid']] * file_args['v_l'],\n",
    "    enc_dim=file_args['enc_dim'], enc_heads=file_args['enc_heads'], enc_ff=file_args['enc_ff'],\n",
    "    enc_l=file_args['enc_l'], enc_rescaling=file_args['enc_rescaling'], enc_causal=file_args['enc_causal'],\n",
    "    pred_to_pi=file_args['enc_pred_to_pi'], hidden_dim=file_args['hidden_dim'], n_blocks_maf=file_args['n_blocks_maf'], \n",
    "    hidden_dim_maf=file_args['hidden_dim_maf'], lstm=file_args['lstm'], n_layers=file_args['n_layers'],\n",
    "    hidden_size=file_args['hidden_size']\n",
    ")\n",
    "\n",
    "dtrpo = DTRPO(env, actor_critic=Core.TRNActorCritic, ac_kwargs=ac_kwargs, seed=0,\n",
    "              save_dir=save_dir, stoch_env=stoch_MDP)\n",
    "\n"
   ]
  },
  {
   "cell_type": "code",
   "execution_count": 46,
   "metadata": {},
   "outputs": [
    {
     "name": "stdout",
     "output_type": "stream",
     "text": [
      "(array([-0.99398978, -0.10947289,  0.20532147]), array([[ 1.6290894 ],\n",
      "       [-0.61107403],\n",
      "       [-0.02132395]], dtype=float32))\n",
      "tensor([[-0.9940, -0.1095,  0.2053,  1.6291, -0.6111, -0.0213]])\n"
     ]
    }
   ],
   "source": [
    "dtrpo.load_session(epoch)\n",
    "dtrpo.ac.enc.eval()\n",
    "dtrpo.ac.pi.eval()\n",
    "o = dtrpo.env.reset()\n",
    "\n",
    "if isinstance(dtrpo.env.action_space, Discrete):\n",
    "    temp_o = torch.tensor([i % dtrpo.act_dim == o[1][i // dtrpo.act_dim]\n",
    "                           for i in range(dtrpo.act_dim * len(o[1]))]).float()\n",
    "    o = torch.cat((torch.tensor(o[0]), temp_o.reshape(-1)))\n",
    "else: \n",
    "    o = torch.cat((torch.tensor(o[0]), torch.tensor(o[1]).reshape(-1)))\n",
    "\n",
    "o = torch.as_tensor(o, dtype=torch.float32).unsqueeze(dim=0)\n"
   ]
  },
  {
   "cell_type": "code",
   "execution_count": 41,
   "metadata": {},
   "outputs": [
    {
     "name": "stdout",
     "output_type": "stream",
     "text": [
      "State: \t\ttensor([-1.0000e+00, -1.3526e-04, -4.6938e-01]) \n",
      "Actions: \ttensor([0., 0., 0.])\n"
     ]
    }
   ],
   "source": [
    "print('State: \\t\\t{0} \\nActions: \\t{1}'.format(o[0,:3],o[0,3:]))"
   ]
  },
  {
   "cell_type": "code",
   "execution_count": 31,
   "metadata": {},
   "outputs": [
    {
     "name": "stdout",
     "output_type": "stream",
     "text": [
      "torch.Size([100, 3, 3])\n"
     ]
    },
    {
     "data": {
      "text/plain": [
       "[]"
      ]
     },
     "execution_count": 31,
     "metadata": {},
     "output_type": "execute_result"
    },
    {
     "data": {
      "image/png": "[encoded data removed]",
      "text/plain": [
       "<Figure size 432x360 with 1 Axes>"
      ]
     },
     "metadata": {
      "needs_background": "light"
     },
     "output_type": "display_data"
    }
   ],
   "source": [
    "num_samples = 100\n",
    "with torch.no_grad():\n",
    "        cond = dtrpo.ac.enc.get_cond(o).detach()\n",
    "cond = cond.repeat(num_samples,1,1)\n",
    "\n",
    "dtrpo.ac.enc.maf_proba.num_inputs = 1\n",
    "samples = dtrpo.ac.enc.maf_proba.sample(num_samples=num_samples, cond_inputs=cond)\n",
    "fig, ax = plt.subplots(1, 1, figsize=(6, 5))\n",
    "ax.hist(samples[:,-1,:].detach().numpy())\n",
    "plt.plot()"
   ]
  }
 ],
 "metadata": {
  "kernelspec": {
   "display_name": "Python 3",
   "language": "python",
   "name": "python3"
  },
  "language_info": {
   "codemirror_mode": {
    "name": "ipython",
    "version": 3
   },
   "file_extension": ".py",
   "mimetype": "text/x-python",
   "name": "python",
   "nbconvert_exporter": "python",
   "pygments_lexer": "ipython3",
   "version": "3.7.1"
  }
 },
 "nbformat": 4,
 "nbformat_minor": 4
}
